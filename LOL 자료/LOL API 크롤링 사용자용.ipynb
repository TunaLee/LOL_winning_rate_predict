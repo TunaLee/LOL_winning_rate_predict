{
 "cells": [
  {
   "cell_type": "code",
   "execution_count": 8,
   "metadata": {},
   "outputs": [],
   "source": [
    "import pickle # 리스트 안의 데이터프레임 형태 저장\n",
    "import requests # api 요청\n",
    "import json\n",
    "import pandas as pd\n",
    "import numpy as np\n",
    "import time\n",
    "from tqdm import tqdm"
   ]
  },
  {
   "cell_type": "code",
   "execution_count": 2,
   "metadata": {},
   "outputs": [],
   "source": [
    "#https://developer.riotgames.com/에서 회원가입 후 api key 만들어주세요.\n",
    "api_key = 'RGAPI-22d3f8f7-d3b1-4652-918d-715587d3dea4'\n",
    "#시작 인덱스, 끝 인덱스 지정\n",
    "init = 0\n",
    "end = 60000"
   ]
  },
  {
   "cell_type": "code",
   "execution_count": 3,
   "metadata": {},
   "outputs": [],
   "source": [
    "#데이터 읽어오기 - 사용자 이름 저장\n",
    "league_df = pd.read_csv('LOL_User_IDs.csv', index_col=0)\n",
    "league_df.reset_index(inplace=True)"
   ]
  },
  {
   "cell_type": "code",
   "execution_count": 4,
   "metadata": {},
   "outputs": [],
   "source": [
    "# 데이터 읽어오기 - 매치 데이터 저장\n",
    "match_info_df = pd.read_csv('MatchInfoData.csv', index_col=0)\n",
    "match_info_df.reset_index(inplace=True)"
   ]
  },
  {
   "cell_type": "code",
   "execution_count": 5,
   "metadata": {},
   "outputs": [
    {
     "name": "stdout",
     "output_type": "stream",
     "text": [
      "<class 'pandas.core.frame.DataFrame'>\n",
      "RangeIndex: 3331 entries, 0 to 3330\n",
      "Data columns (total 12 columns):\n",
      " #   Column        Non-Null Count  Dtype \n",
      "---  ------        --------------  ----- \n",
      " 0   index         3331 non-null   int64 \n",
      " 1   tier          3331 non-null   object\n",
      " 2   summonerId    3331 non-null   object\n",
      " 3   summonerName  3331 non-null   object\n",
      " 4   leaguePoints  3331 non-null   int64 \n",
      " 5   wins          3331 non-null   int64 \n",
      " 6   losses        3331 non-null   int64 \n",
      " 7   veteran       3331 non-null   bool  \n",
      " 8   inactive      3331 non-null   bool  \n",
      " 9   freshBlood    3331 non-null   bool  \n",
      " 10  hotStreak     3331 non-null   bool  \n",
      " 11  account_id    3331 non-null   object\n",
      "dtypes: bool(4), int64(4), object(4)\n",
      "memory usage: 221.3+ KB\n"
     ]
    }
   ],
   "source": [
    "league_df.info()"
   ]
  },
  {
   "cell_type": "code",
   "execution_count": 6,
   "metadata": {},
   "outputs": [
    {
     "name": "stdout",
     "output_type": "stream",
     "text": [
      "<class 'pandas.core.frame.DataFrame'>\n",
      "RangeIndex: 333051 entries, 0 to 333050\n",
      "Data columns (total 9 columns):\n",
      " #   Column      Non-Null Count   Dtype \n",
      "---  ------      --------------   ----- \n",
      " 0   index       333051 non-null  int64 \n",
      " 1   platformId  333051 non-null  object\n",
      " 2   gameId      333051 non-null  int64 \n",
      " 3   champion    333051 non-null  int64 \n",
      " 4   queue       333051 non-null  int64 \n",
      " 5   season      333051 non-null  int64 \n",
      " 6   timestamp   333051 non-null  int64 \n",
      " 7   role        333051 non-null  object\n",
      " 8   lane        333051 non-null  object\n",
      "dtypes: int64(6), object(3)\n",
      "memory usage: 22.9+ MB\n"
     ]
    }
   ],
   "source": [
    "match_info_df.info()"
   ]
  },
  {
   "cell_type": "code",
   "execution_count": 10,
   "metadata": {},
   "outputs": [],
   "source": [
    "match_gameid = match_info_df.gameId.drop_duplicates() #gameId 리스트로만. 중복 제거."
   ]
  },
  {
   "cell_type": "code",
   "execution_count": 11,
   "metadata": {},
   "outputs": [],
   "source": [
    "match_gameid.index = range(len(match_gameid)) #이후 인덱스도 맞추기"
   ]
  },
  {
   "cell_type": "code",
   "execution_count": 12,
   "metadata": {},
   "outputs": [],
   "source": [
    "match_df = pd.DataFrame()"
   ]
  },
  {
   "cell_type": "code",
   "execution_count": 13,
   "metadata": {},
   "outputs": [
    {
     "name": "stderr",
     "output_type": "stream",
     "text": [
      " 81%|█████████████████████████████████████████████████████████▏             | 48337/60000 [16:33:56<3:59:49,  1.23s/it]\n"
     ]
    },
    {
     "ename": "KeyboardInterrupt",
     "evalue": "",
     "output_type": "error",
     "traceback": [
      "\u001b[1;31m---------------------------------------------------------------------------\u001b[0m",
      "\u001b[1;31mKeyboardInterrupt\u001b[0m                         Traceback (most recent call last)",
      "\u001b[1;32m<ipython-input-13-2bee4074b076>\u001b[0m in \u001b[0;36m<module>\u001b[1;34m\u001b[0m\n\u001b[0;32m      4\u001b[0m     \u001b[0mr\u001b[0m \u001b[1;33m=\u001b[0m \u001b[0mrequests\u001b[0m\u001b[1;33m.\u001b[0m\u001b[0mget\u001b[0m\u001b[1;33m(\u001b[0m\u001b[0mapi_url\u001b[0m\u001b[1;33m)\u001b[0m\u001b[1;33m\u001b[0m\u001b[1;33m\u001b[0m\u001b[0m\n\u001b[0;32m      5\u001b[0m     \u001b[1;32mwhile\u001b[0m \u001b[0mr\u001b[0m\u001b[1;33m.\u001b[0m\u001b[0mstatus_code\u001b[0m\u001b[1;33m!=\u001b[0m\u001b[1;36m200\u001b[0m\u001b[1;33m:\u001b[0m \u001b[1;31m# 요청 제한 또는 오류로 인해 정상적으로 받아오지 않는 상태라면, 5초 간 시간을 지연\u001b[0m\u001b[1;33m\u001b[0m\u001b[1;33m\u001b[0m\u001b[0m\n\u001b[1;32m----> 6\u001b[1;33m         \u001b[0mtime\u001b[0m\u001b[1;33m.\u001b[0m\u001b[0msleep\u001b[0m\u001b[1;33m(\u001b[0m\u001b[1;36m5\u001b[0m\u001b[1;33m)\u001b[0m\u001b[1;33m\u001b[0m\u001b[1;33m\u001b[0m\u001b[0m\n\u001b[0m\u001b[0;32m      7\u001b[0m         \u001b[0mr\u001b[0m \u001b[1;33m=\u001b[0m \u001b[0mrequests\u001b[0m\u001b[1;33m.\u001b[0m\u001b[0mget\u001b[0m\u001b[1;33m(\u001b[0m\u001b[0mapi_url\u001b[0m\u001b[1;33m)\u001b[0m\u001b[1;33m\u001b[0m\u001b[1;33m\u001b[0m\u001b[0m\n\u001b[0;32m      8\u001b[0m     \u001b[0mr_json\u001b[0m \u001b[1;33m=\u001b[0m \u001b[0mr\u001b[0m\u001b[1;33m.\u001b[0m\u001b[0mjson\u001b[0m\u001b[1;33m(\u001b[0m\u001b[1;33m)\u001b[0m\u001b[1;33m\u001b[0m\u001b[1;33m\u001b[0m\u001b[0m\n",
      "\u001b[1;31mKeyboardInterrupt\u001b[0m: "
     ]
    }
   ],
   "source": [
    "#Match 정보 분산.\n",
    "for game_id in tqdm(match_gameid[init: end]): # 이전의 매치에 대한 정보 데이터에서 게임 아이디를 가져온다\n",
    "    api_url = 'https://kr.api.riotgames.com/lol/match/v4/matches/' + str(game_id) + '?api_key=' + api_key\n",
    "    r = requests.get(api_url)\n",
    "    while r.status_code!=200: # 요청 제한 또는 오류로 인해 정상적으로 받아오지 않는 상태라면, 5초 간 시간을 지연\n",
    "        time.sleep(5)\n",
    "        r = requests.get(api_url)\n",
    "    r_json = r.json()\n",
    "    temp_df = pd.DataFrame(list(r_json.values()), index=list(r_json.keys())).T # 게임 아이디에 대한 매치 데이터를 받아서 추가\n",
    "    trueset = [ #게임 가져올 조건 지정.\n",
    "               temp_df.gameMode[0] == 'CLASSIC', #클래식일 때만\n",
    "               temp_df.gameVersion[0][0:5] in ['10.20', '10.21', '10.22'], #최신 패치만 가져오기\n",
    "               temp_df.gameType[0] == 'MATCHED_GAME', #gametype이 Matched-game일때만\n",
    "               temp_df.gameDuration[0]>=300, #게임 시간 5분 이상\n",
    "               temp_df.queueId[0] in [420, 430, 440]\n",
    "              ] \n",
    "    if all(trueset): #조건 만족할 때만 가져오기\n",
    "        temp_df = temp_df.drop(columns=['platformId', 'mapId', 'seasonId', 'gameMode', 'gameType' ], axis=1) \n",
    "        #우선 불필요한 정보는 드롭하고... \n",
    "        match_df = pd.concat([match_df, temp_df])"
   ]
  },
  {
   "cell_type": "code",
   "execution_count": 16,
   "metadata": {},
   "outputs": [],
   "source": [
    "#csv 파일 대신 피클 형태로 저장해보자.\n",
    "match_df.to_pickle(f'Gameinfo_{init}_to_{vax}.pickle')"
   ]
  },
  {
   "cell_type": "code",
   "execution_count": 14,
   "metadata": {},
   "outputs": [
    {
     "data": {
      "text/plain": [
       "48336"
      ]
     },
     "execution_count": 14,
     "metadata": {},
     "output_type": "execute_result"
    }
   ],
   "source": [
    "vax = list(match_gameid).index(match_df.iloc[-1,0])\n",
    "vax"
   ]
  },
  {
   "cell_type": "code",
   "execution_count": 15,
   "metadata": {},
   "outputs": [
    {
     "data": {
      "text/html": [
       "<div>\n",
       "<style scoped>\n",
       "    .dataframe tbody tr th:only-of-type {\n",
       "        vertical-align: middle;\n",
       "    }\n",
       "\n",
       "    .dataframe tbody tr th {\n",
       "        vertical-align: top;\n",
       "    }\n",
       "\n",
       "    .dataframe thead th {\n",
       "        text-align: right;\n",
       "    }\n",
       "</style>\n",
       "<table border=\"1\" class=\"dataframe\">\n",
       "  <thead>\n",
       "    <tr style=\"text-align: right;\">\n",
       "      <th></th>\n",
       "      <th>gameId</th>\n",
       "      <th>gameCreation</th>\n",
       "      <th>gameDuration</th>\n",
       "      <th>queueId</th>\n",
       "      <th>gameVersion</th>\n",
       "      <th>teams</th>\n",
       "      <th>participants</th>\n",
       "      <th>participantIdentities</th>\n",
       "    </tr>\n",
       "  </thead>\n",
       "  <tbody>\n",
       "    <tr>\n",
       "      <th>0</th>\n",
       "      <td>4762724097</td>\n",
       "      <td>1604534051182</td>\n",
       "      <td>1406</td>\n",
       "      <td>420</td>\n",
       "      <td>10.22.341.643</td>\n",
       "      <td>[{'teamId': 100, 'win': 'Win', 'firstBlood': T...</td>\n",
       "      <td>[{'participantId': 1, 'teamId': 100, 'champion...</td>\n",
       "      <td>[{'participantId': 1, 'player': {'platformId':...</td>\n",
       "    </tr>\n",
       "    <tr>\n",
       "      <th>0</th>\n",
       "      <td>4762762998</td>\n",
       "      <td>1604532427821</td>\n",
       "      <td>1221</td>\n",
       "      <td>420</td>\n",
       "      <td>10.22.341.643</td>\n",
       "      <td>[{'teamId': 100, 'win': 'Win', 'firstBlood': F...</td>\n",
       "      <td>[{'participantId': 1, 'teamId': 100, 'champion...</td>\n",
       "      <td>[{'participantId': 1, 'player': {'platformId':...</td>\n",
       "    </tr>\n",
       "    <tr>\n",
       "      <th>0</th>\n",
       "      <td>4762702321</td>\n",
       "      <td>1604529701521</td>\n",
       "      <td>1966</td>\n",
       "      <td>420</td>\n",
       "      <td>10.22.341.643</td>\n",
       "      <td>[{'teamId': 100, 'win': 'Fail', 'firstBlood': ...</td>\n",
       "      <td>[{'participantId': 1, 'teamId': 100, 'champion...</td>\n",
       "      <td>[{'participantId': 1, 'player': {'platformId':...</td>\n",
       "    </tr>\n",
       "    <tr>\n",
       "      <th>0</th>\n",
       "      <td>4762671911</td>\n",
       "      <td>1604527685414</td>\n",
       "      <td>1489</td>\n",
       "      <td>420</td>\n",
       "      <td>10.22.341.643</td>\n",
       "      <td>[{'teamId': 100, 'win': 'Fail', 'firstBlood': ...</td>\n",
       "      <td>[{'participantId': 1, 'teamId': 100, 'champion...</td>\n",
       "      <td>[{'participantId': 1, 'player': {'platformId':...</td>\n",
       "    </tr>\n",
       "    <tr>\n",
       "      <th>0</th>\n",
       "      <td>4762680943</td>\n",
       "      <td>1604525332197</td>\n",
       "      <td>1412</td>\n",
       "      <td>420</td>\n",
       "      <td>10.22.341.643</td>\n",
       "      <td>[{'teamId': 100, 'win': 'Fail', 'firstBlood': ...</td>\n",
       "      <td>[{'participantId': 1, 'teamId': 100, 'champion...</td>\n",
       "      <td>[{'participantId': 1, 'player': {'platformId':...</td>\n",
       "    </tr>\n",
       "    <tr>\n",
       "      <th>...</th>\n",
       "      <td>...</td>\n",
       "      <td>...</td>\n",
       "      <td>...</td>\n",
       "      <td>...</td>\n",
       "      <td>...</td>\n",
       "      <td>...</td>\n",
       "      <td>...</td>\n",
       "      <td>...</td>\n",
       "    </tr>\n",
       "    <tr>\n",
       "      <th>0</th>\n",
       "      <td>4735691195</td>\n",
       "      <td>1603449513662</td>\n",
       "      <td>1391</td>\n",
       "      <td>420</td>\n",
       "      <td>10.21.339.2173</td>\n",
       "      <td>[{'teamId': 100, 'win': 'Fail', 'firstBlood': ...</td>\n",
       "      <td>[{'participantId': 1, 'teamId': 100, 'champion...</td>\n",
       "      <td>[{'participantId': 1, 'player': {'platformId':...</td>\n",
       "    </tr>\n",
       "    <tr>\n",
       "      <th>0</th>\n",
       "      <td>4735625888</td>\n",
       "      <td>1603447957810</td>\n",
       "      <td>1219</td>\n",
       "      <td>420</td>\n",
       "      <td>10.21.339.2173</td>\n",
       "      <td>[{'teamId': 100, 'win': 'Win', 'firstBlood': T...</td>\n",
       "      <td>[{'participantId': 1, 'teamId': 100, 'champion...</td>\n",
       "      <td>[{'participantId': 1, 'player': {'platformId':...</td>\n",
       "    </tr>\n",
       "    <tr>\n",
       "      <th>0</th>\n",
       "      <td>4735405216</td>\n",
       "      <td>1603443390386</td>\n",
       "      <td>1409</td>\n",
       "      <td>420</td>\n",
       "      <td>10.21.339.2173</td>\n",
       "      <td>[{'teamId': 100, 'win': 'Fail', 'firstBlood': ...</td>\n",
       "      <td>[{'participantId': 1, 'teamId': 100, 'champion...</td>\n",
       "      <td>[{'participantId': 1, 'player': {'platformId':...</td>\n",
       "    </tr>\n",
       "    <tr>\n",
       "      <th>0</th>\n",
       "      <td>4735056589</td>\n",
       "      <td>1603437452224</td>\n",
       "      <td>2011</td>\n",
       "      <td>420</td>\n",
       "      <td>10.21.339.2173</td>\n",
       "      <td>[{'teamId': 100, 'win': 'Fail', 'firstBlood': ...</td>\n",
       "      <td>[{'participantId': 1, 'teamId': 100, 'champion...</td>\n",
       "      <td>[{'participantId': 1, 'player': {'platformId':...</td>\n",
       "    </tr>\n",
       "    <tr>\n",
       "      <th>0</th>\n",
       "      <td>4734947923</td>\n",
       "      <td>1603433671390</td>\n",
       "      <td>1809</td>\n",
       "      <td>420</td>\n",
       "      <td>10.21.339.2173</td>\n",
       "      <td>[{'teamId': 100, 'win': 'Fail', 'firstBlood': ...</td>\n",
       "      <td>[{'participantId': 1, 'teamId': 100, 'champion...</td>\n",
       "      <td>[{'participantId': 1, 'player': {'platformId':...</td>\n",
       "    </tr>\n",
       "  </tbody>\n",
       "</table>\n",
       "<p>34565 rows × 8 columns</p>\n",
       "</div>"
      ],
      "text/plain": [
       "        gameId   gameCreation gameDuration queueId     gameVersion  \\\n",
       "0   4762724097  1604534051182         1406     420   10.22.341.643   \n",
       "0   4762762998  1604532427821         1221     420   10.22.341.643   \n",
       "0   4762702321  1604529701521         1966     420   10.22.341.643   \n",
       "0   4762671911  1604527685414         1489     420   10.22.341.643   \n",
       "0   4762680943  1604525332197         1412     420   10.22.341.643   \n",
       "..         ...            ...          ...     ...             ...   \n",
       "0   4735691195  1603449513662         1391     420  10.21.339.2173   \n",
       "0   4735625888  1603447957810         1219     420  10.21.339.2173   \n",
       "0   4735405216  1603443390386         1409     420  10.21.339.2173   \n",
       "0   4735056589  1603437452224         2011     420  10.21.339.2173   \n",
       "0   4734947923  1603433671390         1809     420  10.21.339.2173   \n",
       "\n",
       "                                                teams  \\\n",
       "0   [{'teamId': 100, 'win': 'Win', 'firstBlood': T...   \n",
       "0   [{'teamId': 100, 'win': 'Win', 'firstBlood': F...   \n",
       "0   [{'teamId': 100, 'win': 'Fail', 'firstBlood': ...   \n",
       "0   [{'teamId': 100, 'win': 'Fail', 'firstBlood': ...   \n",
       "0   [{'teamId': 100, 'win': 'Fail', 'firstBlood': ...   \n",
       "..                                                ...   \n",
       "0   [{'teamId': 100, 'win': 'Fail', 'firstBlood': ...   \n",
       "0   [{'teamId': 100, 'win': 'Win', 'firstBlood': T...   \n",
       "0   [{'teamId': 100, 'win': 'Fail', 'firstBlood': ...   \n",
       "0   [{'teamId': 100, 'win': 'Fail', 'firstBlood': ...   \n",
       "0   [{'teamId': 100, 'win': 'Fail', 'firstBlood': ...   \n",
       "\n",
       "                                         participants  \\\n",
       "0   [{'participantId': 1, 'teamId': 100, 'champion...   \n",
       "0   [{'participantId': 1, 'teamId': 100, 'champion...   \n",
       "0   [{'participantId': 1, 'teamId': 100, 'champion...   \n",
       "0   [{'participantId': 1, 'teamId': 100, 'champion...   \n",
       "0   [{'participantId': 1, 'teamId': 100, 'champion...   \n",
       "..                                                ...   \n",
       "0   [{'participantId': 1, 'teamId': 100, 'champion...   \n",
       "0   [{'participantId': 1, 'teamId': 100, 'champion...   \n",
       "0   [{'participantId': 1, 'teamId': 100, 'champion...   \n",
       "0   [{'participantId': 1, 'teamId': 100, 'champion...   \n",
       "0   [{'participantId': 1, 'teamId': 100, 'champion...   \n",
       "\n",
       "                                participantIdentities  \n",
       "0   [{'participantId': 1, 'player': {'platformId':...  \n",
       "0   [{'participantId': 1, 'player': {'platformId':...  \n",
       "0   [{'participantId': 1, 'player': {'platformId':...  \n",
       "0   [{'participantId': 1, 'player': {'platformId':...  \n",
       "0   [{'participantId': 1, 'player': {'platformId':...  \n",
       "..                                                ...  \n",
       "0   [{'participantId': 1, 'player': {'platformId':...  \n",
       "0   [{'participantId': 1, 'player': {'platformId':...  \n",
       "0   [{'participantId': 1, 'player': {'platformId':...  \n",
       "0   [{'participantId': 1, 'player': {'platformId':...  \n",
       "0   [{'participantId': 1, 'player': {'platformId':...  \n",
       "\n",
       "[34565 rows x 8 columns]"
      ]
     },
     "execution_count": 15,
     "metadata": {},
     "output_type": "execute_result"
    }
   ],
   "source": [
    "match_df"
   ]
  },
  {
   "cell_type": "code",
   "execution_count": null,
   "metadata": {},
   "outputs": [],
   "source": []
  }
 ],
 "metadata": {
  "kernelspec": {
   "display_name": "Python 3",
   "language": "python",
   "name": "python3"
  },
  "language_info": {
   "codemirror_mode": {
    "name": "ipython",
    "version": 3
   },
   "file_extension": ".py",
   "mimetype": "text/x-python",
   "name": "python",
   "nbconvert_exporter": "python",
   "pygments_lexer": "ipython3",
   "version": "3.8.3"
  }
 },
 "nbformat": 4,
 "nbformat_minor": 4
}
