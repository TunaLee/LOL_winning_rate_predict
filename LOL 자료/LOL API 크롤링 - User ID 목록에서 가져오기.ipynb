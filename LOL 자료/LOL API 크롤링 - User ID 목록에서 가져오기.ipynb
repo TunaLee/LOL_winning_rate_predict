{
 "cells": [
  {
   "cell_type": "code",
   "execution_count": 1,
   "metadata": {},
   "outputs": [],
   "source": [
    "import pickle # 리스트 안의 데이터프레임 형태 저장\n",
    "import requests # api 요청\n",
    "import json\n",
    "import pandas as pd\n",
    "import numpy as np\n",
    "import time"
   ]
  },
  {
   "cell_type": "code",
   "execution_count": 2,
   "metadata": {},
   "outputs": [],
   "source": [
    "#https://developer.riotgames.com/에서 회원가입 후 api key 만들어주세요.\n",
    "#시작 인덱스, 끝 인덱스 지정\n",
    "init = 0 \n",
    "end = 60000"
   ]
  },
  {
   "cell_type": "code",
   "execution_count": 3,
   "metadata": {},
   "outputs": [],
   "source": [
    "#데이터 읽어오기 - 사용자 이름 저장\n",
    "league_df = pd.read_csv('LOL_User_IDs.csv', index_col=0)\n",
    "league_df.reset_index(inplace=True)"
   ]
  },
  {
   "cell_type": "code",
   "execution_count": 4,
   "metadata": {},
   "outputs": [],
   "source": [
    "# 데이터 읽어오기 - 매치 데이터 저장\n",
    "match_info_df = pd.read_csv('MatchInfoData.csv', index_col=0)\n",
    "match_info_df.reset_index(inplace=True)"
   ]
  },
  {
   "cell_type": "code",
   "execution_count": 4,
   "metadata": {},
   "outputs": [
    {
     "name": "stdout",
     "output_type": "stream",
     "text": [
      "<class 'pandas.core.frame.DataFrame'>\n",
      "RangeIndex: 3331 entries, 0 to 3330\n",
      "Data columns (total 12 columns):\n",
      " #   Column        Non-Null Count  Dtype \n",
      "---  ------        --------------  ----- \n",
      " 0   index         3331 non-null   int64 \n",
      " 1   tier          3331 non-null   object\n",
      " 2   summonerId    3331 non-null   object\n",
      " 3   summonerName  3331 non-null   object\n",
      " 4   leaguePoints  3331 non-null   int64 \n",
      " 5   wins          3331 non-null   int64 \n",
      " 6   losses        3331 non-null   int64 \n",
      " 7   veteran       3331 non-null   bool  \n",
      " 8   inactive      3331 non-null   bool  \n",
      " 9   freshBlood    3331 non-null   bool  \n",
      " 10  hotStreak     3331 non-null   bool  \n",
      " 11  account_id    3331 non-null   object\n",
      "dtypes: bool(4), int64(4), object(4)\n",
      "memory usage: 221.3+ KB\n"
     ]
    }
   ],
   "source": [
    "league_df.info()"
   ]
  },
  {
   "cell_type": "code",
   "execution_count": 6,
   "metadata": {},
   "outputs": [
    {
     "name": "stdout",
     "output_type": "stream",
     "text": [
      "<class 'pandas.core.frame.DataFrame'>\n",
      "RangeIndex: 333051 entries, 0 to 333050\n",
      "Data columns (total 9 columns):\n",
      " #   Column      Non-Null Count   Dtype \n",
      "---  ------      --------------   ----- \n",
      " 0   index       333051 non-null  int64 \n",
      " 1   platformId  333051 non-null  object\n",
      " 2   gameId      333051 non-null  int64 \n",
      " 3   champion    333051 non-null  int64 \n",
      " 4   queue       333051 non-null  int64 \n",
      " 5   season      333051 non-null  int64 \n",
      " 6   timestamp   333051 non-null  int64 \n",
      " 7   role        333051 non-null  object\n",
      " 8   lane        333051 non-null  object\n",
      "dtypes: int64(6), object(3)\n",
      "memory usage: 22.9+ MB\n"
     ]
    }
   ],
   "source": [
    "match_info_df.info()"
   ]
  },
  {
   "cell_type": "code",
   "execution_count": 7,
   "metadata": {},
   "outputs": [],
   "source": [
    "match_gameid = match_info_df.gameId.drop_duplicates() #gameId 리스트로만. 중복 제거."
   ]
  },
  {
   "cell_type": "code",
   "execution_count": 8,
   "metadata": {},
   "outputs": [],
   "source": [
    "match_gameid.index = range(len(match_gameid)) #이후 인덱스도 맞추기"
   ]
  },
  {
   "cell_type": "code",
   "execution_count": null,
   "metadata": {},
   "outputs": [],
   "source": [
    "#Match 정보 분산.\n",
    "match_df = pd.DataFrame()\n",
    "for game_id in match_gameid[init, end]: # 이전의 매치에 대한 정보 데이터에서 게임 아이디를 가져온다\n",
    "    api_url = 'https://kr.api.riotgames.com/lol/match/v4/matches/' + str(game_id) + '?api_key=' + api_key\n",
    "    r = requests.get(api_url)\n",
    "    while r.status_code!=200: # 요청 제한 또는 오류로 인해 정상적으로 받아오지 않는 상태라면, 5초 간 시간을 지연\n",
    "        time.sleep(5)\n",
    "        r = requests.get(api_url)\n",
    "    r_json = r.json()\n",
    "    temp_df = pd.DataFrame(list(r_json.values()), index=list(r_json.keys())).T # 게임 아이디에 대한 매치 데이터를 받아서 추가\n",
    "    trueset = [ #게임 가져올 조건 지정.\n",
    "               temp_df.gameMode[0] == 'CLASSIC', #클래식일 때만\n",
    "               temp_df.gameVersion[0][0:5] in ['10.20', '10.21', '10.22'], #최신 패치만 가져오기\n",
    "               temp_df.gameType[0] == 'MATCHED_GAME', #gametype이 Matched-game일때만\n",
    "               temp_df.gameDuration[0]>=300, #게임 시간 5분 이상\n",
    "               temp_df.queueId[0] in [420, 430, 440]\n",
    "              ] \n",
    "    if all(trueset): #조건 만족할 때만 가져오기\n",
    "        temp_df = temp_df.drop(columns=['platformId', 'mapId', 'seasonId', 'gameMode', 'gameType' ], axis=1) \n",
    "        #우선 불필요한 정보는 드롭하고... \n",
    "        match_df = pd.concat([match_df, temp_df])"
   ]
  },
  {
   "cell_type": "code",
   "execution_count": null,
   "metadata": {},
   "outputs": [],
   "source": [
    "#csv 파일 대신 피클 형태로 저장해보자.\n",
    "match_df.to_pickle(f'Gameinfo_{init}_to_{end}.pickle')"
   ]
  }
 ],
 "metadata": {
  "kernelspec": {
   "display_name": "Python 3",
   "language": "python",
   "name": "python3"
  },
  "language_info": {
   "codemirror_mode": {
    "name": "ipython",
    "version": 3
   },
   "file_extension": ".py",
   "mimetype": "text/x-python",
   "name": "python",
   "nbconvert_exporter": "python",
   "pygments_lexer": "ipython3",
   "version": "3.8.3"
  }
 },
 "nbformat": 4,
 "nbformat_minor": 4
}
