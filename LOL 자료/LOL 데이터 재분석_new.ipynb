{
 "cells": [
  {
   "cell_type": "code",
   "execution_count": 20,
   "metadata": {},
   "outputs": [],
   "source": [
    "import pandas as pd\n",
    "import numpy as np\n",
    "import pickle\n",
    "import matplotlib as mpl\n",
    "import matplotlib.pyplot as plt\n",
    "import pickle, json\n",
    "from urllib import request, parse\n",
    "from bs4 import BeautifulSoup\n",
    "from tqdm import tqdm\n",
    "from selenium import webdriver\n",
    "from time import sleep\n",
    "import time, timeit\n",
    "import asyncio, aiohttp\n",
    "from selenium.webdriver.common.keys import Keys"
   ]
  },
  {
   "cell_type": "code",
   "execution_count": 21,
   "metadata": {},
   "outputs": [],
   "source": [
    "#pickle 데이터 불러오기\n",
    "with open('Gameinfo_70000_to_110000.pickle', 'rb') as f:\n",
    "    match_df = pickle.load(f)\n",
    "#챔피언 id/이름 목록 파일 불러오기\n",
    "with open('champion_id_and_name_list.pickle','rb') as f1:\n",
    "    champ_id_dict=pickle.load(f1)"
   ]
  },
  {
   "cell_type": "code",
   "execution_count": 22,
   "metadata": {},
   "outputs": [
    {
     "name": "stdout",
     "output_type": "stream",
     "text": [
      "<class 'pandas.core.frame.DataFrame'>\n",
      "Int64Index: 23016 entries, 0 to 0\n",
      "Data columns (total 8 columns):\n",
      " #   Column                 Non-Null Count  Dtype \n",
      "---  ------                 --------------  ----- \n",
      " 0   gameId                 23016 non-null  object\n",
      " 1   gameCreation           23016 non-null  object\n",
      " 2   gameDuration           23016 non-null  object\n",
      " 3   queueId                23016 non-null  object\n",
      " 4   gameVersion            23016 non-null  object\n",
      " 5   teams                  23016 non-null  object\n",
      " 6   participants           23016 non-null  object\n",
      " 7   participantIdentities  23016 non-null  object\n",
      "dtypes: object(8)\n",
      "memory usage: 1.6+ MB\n"
     ]
    }
   ],
   "source": [
    "match_df.info()"
   ]
  },
  {
   "cell_type": "code",
   "execution_count": 23,
   "metadata": {},
   "outputs": [],
   "source": [
    "match_df.index = range(len(match_df))"
   ]
  },
  {
   "cell_type": "code",
   "execution_count": 24,
   "metadata": {},
   "outputs": [],
   "source": [
    "def parse_tup(summonerName, championId): #동원님 스크립트를 이용해서 함수 재조합.\n",
    "    global driver, champ_id_dict\n",
    "    name_parsed = parse.quote_plus(summonerName)\n",
    "    champ = champ_id_dict[championId] #id -챔피언명 정보 딕셔너리로 불러와주세요. 딕셔너리 이름 다르게 했으면 이 이름으로 하셔야 합니다. \n",
    "    try:\n",
    "        driver.get(f'https://www.op.gg/summoner/userName={name_parsed}')\n",
    "        driver.find_element_by_xpath('//*[@id=\"right_gametype_soloranked\"]/a').send_keys(Keys.ENTER)\n",
    "        sleep(2)\n",
    "        x=driver.find_element_by_xpath('//*[@id=\"GameAverageStatsBox-matches\"]/div[1]/table/tbody/tr[2]/td[2]/div[2]')\n",
    "        spans=x.find_elements_by_xpath('./span')\n",
    "        recentKDA= float(spans[0].text.split(':')[0])\n",
    "        recentW_R= int(spans[1].find_element_by_xpath('./span').text[:-1])\n",
    "        totalW_R=int(driver.find_element_by_xpath('//*[@id=\"SummonerLayoutContent\"]/div[2]/div[1]/div[1]/div/div[2]/div[3]/span[2]/span[3]').text.split()[-1][:-1])\n",
    "        driver.get(f'https://www.op.gg/summoner/champions/userName={name_parsed}') #url 변경으로 대체가능\n",
    "        driver.find_element_by_xpath('//*[@id=\"champion_season\"]/li[2]/a').send_keys(Keys.ENTER)\n",
    "        sleep(2)\n",
    "        chamW_R=0\n",
    "        chamKDA=0\n",
    "        matchCNT=0\n",
    "        table = driver.find_element_by_xpath('//*[@id=\"SummonerLayoutContent\"]/div[3]/div/div/div[2]/div[1]/table/tbody')\n",
    "        trs=table.find_elements_by_xpath('./tr')\n",
    "        #픽 champion의 시즌 승률 검색 만약 데이터가 없으면 최근승률로 대체\n",
    "        for tr in trs:\n",
    "                tds = tr.find_elements_by_xpath('./td')\n",
    "                if tds[2].get_attribute('data-value')==champ:\n",
    "                    chamW_R=int(tds[3].find_element_by_xpath('.//span').text[:-1])\n",
    "                    chamKDA=float(tds[4].get_attribute(\"data-value\"))\n",
    "                    divs=tds[3].find_elements_by_xpath('./div/div/div')\n",
    "                    matchCNT=int(divs[1].text[:-1])+int(divs[3].text[:-1])\n",
    "                    break\n",
    "        else:\n",
    "            chamW_R=recentW_R\n",
    "            chamKDA=recentKDA\n",
    "                \n",
    "        \n",
    "        return [summonerName,champ,chamW_R,chamKDA,recentW_R,recentKDA, totalW_R ,matchCNT]\n",
    "    except: #추출 불가면 아무것도 return하지 않음.\n",
    "        return 'err!'\n",
    "    "
   ]
  },
  {
   "cell_type": "code",
   "execution_count": 25,
   "metadata": {},
   "outputs": [],
   "source": [
    "data_list = []\n",
    "data_list_failed = []\n",
    "data_list_errored = []"
   ]
  },
  {
   "cell_type": "code",
   "execution_count": null,
   "metadata": {},
   "outputs": [
    {
     "name": "stderr",
     "output_type": "stream",
     "text": [
      " 19%|█████████████▋                                                          | 19/100 [16:12<43:23, 32.14s/it]"
     ]
    }
   ],
   "source": [
    "url_f = 'https://www.op.gg/summoner/userName={}'\n",
    "#언어 설정 영어로 지정\n",
    "\n",
    "i = 0\n",
    "start_time = time.time()\n",
    "for i in list(range(5000,20000,100)): #+list(range(4000, len(match_df), 100)): #900까지 포크했으니...\n",
    "    #options = webdriver.ChromeOptions() #headless option  사용 - 창 띄우지 않고 실행\n",
    "    #options.add_argument('headless')\n",
    "    #options.add_argument('window-size=800x600')\n",
    "    #options.add_argument(\"disable-gpu\")\n",
    "    driver= webdriver.Chrome() #이번엔 옵션 없애기...\n",
    "    driver.get('https://op.gg/')\n",
    "    driver.find_element_by_xpath('/html/body/div[2]/header/div[2]/div/div/div/div/div/button').click()\n",
    "    sleep(2)\n",
    "    lang_list = driver.find_elements_by_class_name('setting-list__item')\n",
    "    for lang in lang_list:\n",
    "        if \"English\" in lang.text:\n",
    "            lang.click()\n",
    "    sleep(2)\n",
    "    driver.find_elements_by_class_name('setting__button')[0].click()\n",
    "    sleep(2)\n",
    "    for j in tqdm(range(100)): # 100단위로 처리     \n",
    "    #userlist parsing\n",
    "        try:\n",
    "            team_blue = {'gameId':match_df.gameId[i+j], 'teamId':100 }\n",
    "            team_red = {'gameId':match_df.gameId[i+j], 'teamId':200 }\n",
    "            team_blue['win'] = True if match_df.teams[i+j][0]['win'] in ['Win', True, 'True'] else False\n",
    "            team_red['win'] = True if match_df.teams[i+j][1]['win'] in ['Win', True, 'True'] else False\n",
    "            #우선 둘이 같으면 데이터 오류로 판단하고 기각\n",
    "            dat_err = False\n",
    "            if team_blue['win'] == team_red['win']:\n",
    "                dat_err = True\n",
    "            team_blue['participants'] = []\n",
    "            team_red['participants'] = []\n",
    "            temp_blue =[]\n",
    "            temp_red = []\n",
    "            if not dat_err:\n",
    "                for k in [0,5]: #blue : k=0, red : k=5\n",
    "                    for l in range(5): #participantIdentities 에서 userid 가져옴,\n",
    "                        p_info = match_df.participantIdentities[i+j][l+k]\n",
    "                        p_name = p_info['player']['summonerName']\n",
    "                        name_parsed = parse.quote_plus(p_name)\n",
    "                        url = url_f.format(name_parsed)\n",
    "                        html = request.urlopen(url).read().decode('utf8')\n",
    "                        soup = BeautifulSoup(html, 'html.parser')\n",
    "                        title = soup.title.string\n",
    "                        if title[-1] == 'G': #반복 횟수 줄이기 위한 테크닉\n",
    "                            break\n",
    "                        elif k ==0: \n",
    "                            p_champ = match_df.participants[i+j][l]['championId']\n",
    "                            tup = (p_name, p_champ)\n",
    "                            temp_blue.append(tup)\n",
    "                        elif k ==5: #페이지 유효\n",
    "                            p_champ = match_df.participants[i+j][l+5]['championId']\n",
    "                            tup = (p_name, p_champ)\n",
    "                            temp_red.append(tup)\n",
    "\n",
    "\n",
    "                if len(temp_blue)==5: #5명 모두 긁어올 때만\n",
    "                    parsed_res =[]\n",
    "                    for tup in temp_blue:\n",
    "                        try: \n",
    "                            res = parse_tup(*tup)\n",
    "                            parsed_res.append(res)\n",
    "                        except:\n",
    "                            data_list_failed.append(i+j)\n",
    "                            break\n",
    "                        \n",
    "                    if len(parsed_res) == 5: \n",
    "                        if (not ('err!' in parsed_res)): \n",
    "                            team_blue['participants'] = parsed_res\n",
    "                            data_list.append(team_blue)\n",
    "                        else:\n",
    "                            data_list_errored.append(i+j)\n",
    "\n",
    "                if len(temp_red)==5: #5명 모두 긁어올 때만.\n",
    "                    parsed_res =[]\n",
    "                    for tup in temp_red:\n",
    "                        try:\n",
    "                            res = parse_tup(*tup)\n",
    "                            parsed_res.append(res)\n",
    "                        except:\n",
    "                            data_list_failed.append(i+j)\n",
    "                        \n",
    "                    if len(parsed_res) == 5: \n",
    "                        if (not ('err!' in parsed_res)): \n",
    "                            team_red['participants'] = parsed_res\n",
    "                            data_list.append(team_red)\n",
    "                        else:\n",
    "                            data_list_errored.append(i+j)\n",
    "        except:\n",
    "            pass\n",
    "        \n",
    "    with open(f'Gameinfo_with_user_70000_to_110000_{i//100+1}_m.pickle', 'wb') as pk1: #100개 긁어올 때마다...\n",
    "        pickle.dump(data_list, pk1)\n",
    "        print(len(data_list), len(data_list_failed)) #데이터 길이 체크.\n",
    "        data_list = []\n",
    "        \n",
    "    \n",
    "    driver.quit() #100개 모을 때마다 강제휴식 \n",
    "    sleep(10)\n",
    "\n",
    "print('end time', time.time()-start_time)\n",
    "        \n",
    "            \n"
   ]
  },
  {
   "cell_type": "code",
   "execution_count": 16,
   "metadata": {},
   "outputs": [
    {
     "data": {
      "text/plain": [
       "[]"
      ]
     },
     "execution_count": 16,
     "metadata": {},
     "output_type": "execute_result"
    }
   ],
   "source": [
    "data_list_failed"
   ]
  },
  {
   "cell_type": "code",
   "execution_count": 17,
   "metadata": {},
   "outputs": [
    {
     "data": {
      "text/plain": [
       "[]"
      ]
     },
     "execution_count": 17,
     "metadata": {},
     "output_type": "execute_result"
    }
   ],
   "source": [
    "data_list_errored"
   ]
  },
  {
   "cell_type": "code",
   "execution_count": 19,
   "metadata": {},
   "outputs": [
    {
     "data": {
      "text/plain": [
       "({'gameId': 0    4751882004\n",
       "  0    4751891353\n",
       "  0    4751930286\n",
       "  0    4751789156\n",
       "  0    4751787371\n",
       "          ...    \n",
       "  0    4733699592\n",
       "  0    4733664630\n",
       "  0    4733439686\n",
       "  0    4733444788\n",
       "  0    4733430403\n",
       "  Name: gameId, Length: 23016, dtype: object,\n",
       "  'teamId': 100},\n",
       " {'gameId': 0    4751882004\n",
       "  0    4751891353\n",
       "  0    4751930286\n",
       "  0    4751789156\n",
       "  0    4751787371\n",
       "          ...    \n",
       "  0    4733699592\n",
       "  0    4733664630\n",
       "  0    4733439686\n",
       "  0    4733444788\n",
       "  0    4733430403\n",
       "  Name: gameId, Length: 23016, dtype: object,\n",
       "  'teamId': 200})"
      ]
     },
     "execution_count": 19,
     "metadata": {},
     "output_type": "execute_result"
    }
   ],
   "source": [
    "team_blue, team_red"
   ]
  }
 ],
 "metadata": {
  "kernelspec": {
   "display_name": "Python 3",
   "language": "python",
   "name": "python3"
  },
  "language_info": {
   "codemirror_mode": {
    "name": "ipython",
    "version": 3
   },
   "file_extension": ".py",
   "mimetype": "text/x-python",
   "name": "python",
   "nbconvert_exporter": "python",
   "pygments_lexer": "ipython3",
   "version": "3.8.3"
  }
 },
 "nbformat": 4,
 "nbformat_minor": 4
}
