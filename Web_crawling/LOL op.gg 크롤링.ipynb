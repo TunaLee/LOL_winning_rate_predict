{
 "cells": [
  {
   "cell_type": "code",
   "execution_count": 8,
   "metadata": {},
   "outputs": [],
   "source": [
    "from bs4 import BeautifulSoup\n",
    "from selenium import webdriver\n",
    "from selenium.webdriver.common.keys import Keys\n",
    "from time import sleep\n",
    "import pickle\n",
    "from tqdm import tqdm"
   ]
  },
  {
   "cell_type": "code",
   "execution_count": 4,
   "metadata": {},
   "outputs": [],
   "source": [
    "with open('participant_data.pickle', 'rb') as f:\n",
    "    data = pickle.load(f)\n",
    "with open('champion_id_and_name_list.pickle','rb') as f1:\n",
    "    data1=pickle.load(f1)\n",
    "with open('op_gg_valid_game_1.pickle','rb') as f1:\n",
    "    data2=pickle.load(f1)\n",
    "with open('op_gg_valid_game_2.pickle','rb') as f1:\n",
    "    data2+=pickle.load(f1)"
   ]
  },
  {
   "cell_type": "code",
   "execution_count": 9,
   "metadata": {},
   "outputs": [
    {
     "name": "stderr",
     "output_type": "stream",
     "text": [
      "100%|████████████████████████████████████████████████████████████████████████████████| 822/822 [02:03<00:00,  6.67it/s]\n"
     ]
    }
   ],
   "source": [
    "data3=list()\n",
    "for i in tqdm(data2):\n",
    "    for j in data:\n",
    "        if j['gameId']==i[0] and j['teamId']==i[1]:\n",
    "            data3.append(j)"
   ]
  },
  {
   "cell_type": "code",
   "execution_count": 10,
   "metadata": {},
   "outputs": [],
   "source": [
    "driver = webdriver.Chrome('./chromedriver.exe')\n",
    "driver.get('https://www.op.gg')\n",
    "#언어 English 지정해야함 여기서"
   ]
  },
  {
   "cell_type": "code",
   "execution_count": 20,
   "metadata": {},
   "outputs": [],
   "source": [
    "ID=data[0]['summonerName']\n",
    "champ = data1[data[0]['championId']]\n",
    "driver.get(f'https://www.op.gg/summoner/userName={ID}')\n",
    "driver.find_element_by_xpath('//*[@id=\"right_gametype_soloranked\"]').click()\n",
    "sleep(2)\n",
    "x=driver.find_element_by_xpath('//*[@id=\"GameAverageStatsBox-matches\"]/div[1]/table/tbody/tr[2]/td[2]/div[2]')\n",
    "spans=x.find_elements_by_xpath('./span')\n",
    "recentKDA= float(spans[0].text.split(':')[0])\n",
    "recentW_R= int(spans[1].find_element_by_xpath('./span').text[:-1])\n",
    "totalW_R=int(driver.find_element_by_xpath('//*[@id=\"SummonerLayoutContent\"]/div[2]/div[1]/div[1]/div/div[2]/div[3]/span[2]/span[3]').text.split()[-1][:-1])\n",
    "driver.find_element_by_xpath('//*[@id=\"left_champion\"]/a').click()\n",
    "sleep(2)\n",
    "table = driver.find_element_by_xpath('//*[@id=\"SummonerLayoutContent\"]/div[3]/div/div/div[2]/div[1]/table/tbody')\n",
    "trs=table.find_elements_by_xpath('./tr')\n",
    "#픽 champion의 시즌 승률 검색 만약 데이터가 없으면 최근승률로 대체\n",
    "chamW_R=0\n",
    "chamKDA=0\n",
    "for tr in trs:\n",
    "    tds = tr.find_elements_by_xpath('./td')\n",
    "    if tds[2].get_attribute('data-value')==champ:\n",
    "        chamW_R=int(tds[3].find_element_by_xpath('.//span').text[:-1])\n",
    "        chamKDA=float(tds[4].get_attribute(\"data-value\"))\n",
    "        break\n",
    "    chamW_R=recentW_R\n",
    "    chamKDA=recentKDA\n",
    "User.append([i['gameId'],ID,champ,chamW_R,chamKDA,recentW_R,recentKDA])"
   ]
  },
  {
   "cell_type": "code",
   "execution_count": 21,
   "metadata": {},
   "outputs": [
    {
     "data": {
      "text/plain": [
       "[[3666955712, 'Isla', 'Galio', 67, 3.45, 44, 1.88]]"
      ]
     },
     "execution_count": 21,
     "metadata": {},
     "output_type": "execute_result"
    }
   ],
   "source": [
    "User"
   ]
  },
  {
   "cell_type": "code",
   "execution_count": 25,
   "metadata": {},
   "outputs": [
    {
     "name": "stderr",
     "output_type": "stream",
     "text": [
      "100%|████████████████████████████████████████████████████████████████████████████████| 100/100 [11:02<00:00,  6.62s/it]\n"
     ]
    }
   ],
   "source": [
    "User=list()\n",
    "for i in tqdm(data3[:100]):\n",
    "    ID=i['summonerName']\n",
    "    champ =  data1[i['championId']]\n",
    "    try:\n",
    "        driver.get(f'https://www.op.gg/summoner/userName={ID}')\n",
    "        driver.find_element_by_xpath('//*[@id=\"right_gametype_soloranked\"]').click()\n",
    "        sleep(3)\n",
    "        x=driver.find_element_by_xpath('//*[@id=\"GameAverageStatsBox-matches\"]/div[1]/table/tbody/tr[2]/td[2]/div[2]')\n",
    "        spans=x.find_elements_by_xpath('./span')\n",
    "        recentKDA= float(spans[0].text.split(':')[0])\n",
    "        recentW_R= int(spans[1].find_element_by_xpath('./span').text[:-1])\n",
    "        totalW_R=int(driver.find_element_by_xpath('//*[@id=\"SummonerLayoutContent\"]/div[2]/div[1]/div[1]/div/div[2]/div[3]/span[2]/span[3]').text.split()[-1][:-1])\n",
    "        driver.find_element_by_xpath('//*[@id=\"left_champion\"]/a').click()\n",
    "        sleep(3)\n",
    "        chamW_R=0\n",
    "        chamKDA=0\n",
    "        try:\n",
    "        table = driver.find_element_by_xpath('//*[@id=\"SummonerLayoutContent\"]/div[3]/div/div/div[2]/div[1]/table/tbody')\n",
    "        trs=table.find_elements_by_xpath('./tr')\n",
    "        #픽 champion의 시즌 승률 검색 만약 데이터가 없으면 최근승률로 대체\n",
    "            for tr in trs:\n",
    "                tds = tr.find_elements_by_xpath('./td')\n",
    "                if tds[2].get_attribute('data-value')==champ:\n",
    "                    chamW_R=int(tds[3].find_element_by_xpath('.//span').text[:-1])\n",
    "                    chamKDA=float(tds[4].get_attribute(\"data-value\"))\n",
    "                    break\n",
    "        except:\n",
    "            chamW_R=recentW_R\n",
    "            chamKDA=recentKDA\n",
    "        User.append([i['gameId'],ID,champ,chamW_R,chamKDA,recentW_R,recentKDA])\n",
    "    except:\n",
    "        continue"
   ]
  },
  {
   "cell_type": "code",
   "execution_count": 28,
   "metadata": {},
   "outputs": [
    {
     "data": {
      "text/plain": [
       "[[3523306354, '세체룰', 'Lulu', 47, 2.51, 38, 1.71],\n",
       " [3523306354, '프리즘스톤', 'Ahri', 57, 3.46, 52, 2.69],\n",
       " [3523306354, '카트라이더11', 'Ezreal', 64, 2.64, 48, 2.36],\n",
       " [3523306354, '멘탈잡은사람', 'Jax', 67, 0.55, 42, 2.24],\n",
       " [3555201301, '노틸sup', 'Nautilus', 52, 2.18, 45, 1.83],\n",
       " [3555201301, '홍건의', 'Jarvan IV', 22, 1.62, 57, 2.52],\n",
       " [3555201301, '갓조사장', 'Brand', 58, 2.46, 48, 1.97],\n",
       " [3555201301, '서포터 홀릭', 'Caitlyn', 0, 0, 45, 2.37],\n",
       " [3582523914, 'v질포터v', 'Zilean', 58, 2.18, 39, 1.69],\n",
       " [3582523914, '한용이원딜만감', 'Sivir', 0, 1.0, 66, 3.54],\n",
       " [3582523914, '찬이뀨', 'Kassadin', 100, 2.07, 49, 2.22],\n",
       " [3590327080, 'Mung ki', 'Kalista', 43, 1.73, 52, 1.77],\n",
       " [3590327080, '내일은 브론즈', 'Jax', 50, 1.31, 48, 1.27],\n",
       " [3590327080, '커피자판기', 'Lee Sin', 33, 2.3, 42, 1.69],\n",
       " [3591442795, '쁘농이', 'Zyra', 67, 4.4, 54, 4.0],\n",
       " [3591442795, '너의 모든것', 'Fiddlesticks', 0, 0, 39, 2.74],\n",
       " [3591442795, '넌확실히강해졌다', 'Renekton', 14, 1.55, 49, 2.06],\n",
       " [3591442795, 'BJ서준석사생팬', 'Fizz', 54, 3.08, 52, 2.48],\n",
       " [3591442795, 'lllIIIIllIIlIlI', 'Orianna', 0, 0, 51, 2.18],\n",
       " [3592964768, 'SANDBOX OnFleek', 'Xin Zhao', 75, 3.0, 55, 3.03],\n",
       " [3592964768, '     Zhe     Yi ', \"Kai'Sa\", 0, 0, 60, 2.52],\n",
       " [3592964768, '미니맵안보는사람', 'Orianna', 57, 3.35, 45, 1.85],\n",
       " [3592964768, '잠잘때코고는사람', 'Galio', 0, 0, 48, 2.92],\n",
       " [3593563650, 'Savannah cat', \"Rek'Sai\", 0, 0, 48, 2.39],\n",
       " [3593563650, 'Jiang Chen', 'Lux', 0, 0, 89, 4.8],\n",
       " [3593563650, '육개장먹방', 'Soraka', 100, 4.59, 49, 1.72],\n",
       " [3593563650, 'Cheukuya', 'Ezreal', 57, 3.28, 51, 2.77],\n",
       " [3594028032, '볼빨간사춘기', 'Fizz', 54, 2.66, 51, 2.89],\n",
       " [3594028032, '갓 뱀', \"Kai'Sa\", 0, 1.6, 45, 2.66],\n",
       " [3602457534, 'Cotton Candy OwO', 'Soraka', 0, 0, 44, 3.15],\n",
       " [3602457534, 'Play my best', 'Ezreal', 74, 3.87, 34, 0.83],\n",
       " [3602457534, '세이콘', 'Kled', 0, 0, 37, 2.28],\n",
       " [3603451876, '내가이짓을또하다', 'Fizz', 58, 2.95, 46, 1.72],\n",
       " [3603451876, '차분히 하나씩', 'Vladimir', 0, 0, 54, 2.49],\n",
       " [3603451876, '다크시니o', 'Jarvan IV', 50, 2.87, 43, 2.34],\n",
       " [3603451876, '마이쮸 마시쪄', 'Draven', 0, 2.75, 54, 3.1],\n",
       " [3604534297, '세체룰', 'Lulu', 47, 2.51, 38, 1.71],\n",
       " [3604534297, 'bot gank plz', 'Vayne', 40, 2.42, 33, 1.93],\n",
       " [3604534297, '투르맨', 'Mordekaiser', 0, 0.65, 45, 2.11],\n",
       " [3636468639, '짜오딜 무엇', 'Xin Zhao', 44, 2.93, 51, 3.23],\n",
       " [3636468639, 'Treean', 'Galio', 0, 0, 50, 3.0],\n",
       " [3636468639, '달달꿀떡', \"Kai'Sa\", 67, 4.08, 52, 3.21],\n",
       " [3643329508, '엉덩국 갱승제로', 'Sivir', 33, 2.38, 48, 3.57],\n",
       " [3643329508, 'VeL', 'Irelia', 46, 1.89, 48, 1.7],\n",
       " [3654817429, '호렌지', 'Ryze', 0, 0, 53, 2.09],\n",
       " [3654817429, '버터링꿀맛', \"Rek'Sai\", 66, 4.1, 53, 3.06],\n",
       " [3655341962, '바텀은 하나', 'Vayne', 40, 2.37, 45, 1.56],\n",
       " [3655341962, '만남1', 'Renekton', 50, 2.21, 40, 1.68],\n",
       " [3657434569, '검정반팔티', \"Rek'Sai\", 0, 0, 44, 2.72],\n",
       " [3657434569, 'Ereve', 'LeBlanc', 58, 3.31, 45, 2.36],\n",
       " [3657434569, 'coy27', 'Bard', 54, 3.28, 49, 3.0],\n",
       " [3659594761, '맛츔법파괘자', \"Kha'Zix\", 0, 0, 43, 3.34],\n",
       " [3659594761, 'SNU302', 'Rakan', 0, 0, 53, 2.22],\n",
       " [3659594761, 'BJ서준석사생팬', 'Fizz', 54, 3.08, 52, 2.48],\n",
       " [3661670607, '해강고 원딜', 'Draven', 60, 2.44, 49, 2.41],\n",
       " [3661670607, '검정반팔티', 'Kayn', 0, 0, 44, 2.72],\n",
       " [3661670607, 'Ereve', 'Zoe', 52, 3.28, 45, 2.36],\n",
       " [3661670607, 'dabini', 'Nautilus', 0, 0, 36, 2.22],\n",
       " [3661670607, 'eren헌터', 'Akali', 57, 2.1, 48, 1.81],\n",
       " [3663816203, '집 게', 'Kindred', 0, 0, 69, 2.4],\n",
       " [3663816203, 'RJG', 'Karma', 0, 0, 52, 3.52],\n",
       " [3663816203, '헤 미', 'Ezreal', 63, 3.04, 60, 1.73],\n",
       " [3666955712, '레오나로 민주화', 'Sona', 0, 0, 53, 3.95],\n",
       " [3666955712, 'Ereve', 'Taliyah', 50, 6.25, 45, 2.36],\n",
       " [3666955712, 'weibianzuiqiang', 'Renekton', 36, 1.51, 33, 1.56]]"
      ]
     },
     "execution_count": 28,
     "metadata": {},
     "output_type": "execute_result"
    }
   ],
   "source": [
    "User"
   ]
  },
  {
   "cell_type": "code",
   "execution_count": 29,
   "metadata": {},
   "outputs": [
    {
     "data": {
      "text/plain": [
       "65"
      ]
     },
     "execution_count": 29,
     "metadata": {},
     "output_type": "execute_result"
    }
   ],
   "source": [
    "len(User)"
   ]
  },
  {
   "cell_type": "code",
   "execution_count": 30,
   "metadata": {},
   "outputs": [],
   "source": [
    "for i in User:\n",
    "    if i[-1]==i[-2]:\n",
    "        print(1)"
   ]
  },
  {
   "cell_type": "code",
   "execution_count": null,
   "metadata": {},
   "outputs": [],
   "source": []
  }
 ],
 "metadata": {
  "kernelspec": {
   "display_name": "Python 3",
   "language": "python",
   "name": "python3"
  },
  "language_info": {
   "codemirror_mode": {
    "name": "ipython",
    "version": 3
   },
   "file_extension": ".py",
   "mimetype": "text/x-python",
   "name": "python",
   "nbconvert_exporter": "python",
   "pygments_lexer": "ipython3",
   "version": "3.8.3"
  }
 },
 "nbformat": 4,
 "nbformat_minor": 4
}
