{
 "cells": [
  {
   "cell_type": "code",
   "execution_count": 4,
   "metadata": {},
   "outputs": [],
   "source": [
    "import pickle\n",
    "import pandas as pd\n",
    "from sklearn.preprocessing import MinMaxScaler\n",
    "from sklearn import svm\n",
    "from sklearn.linear_model import LogisticRegression\n",
    "import matplotlib.pyplot as plt\n",
    "import numpy as np\n",
    "import matplotlib.pyplot as plt\n",
    "from sklearn.manifold import TSNE"
   ]
  },
  {
   "cell_type": "code",
   "execution_count": 5,
   "metadata": {},
   "outputs": [],
   "source": [
    "data = []\n",
    "for i in range(1,20):\n",
    "    with open(f'Gameinfo_with_user_60000_to_70000_{i}.pickle','rb') as f:\n",
    "        data+=pickle.load(f)"
   ]
  },
  {
   "cell_type": "code",
   "execution_count": 6,
   "metadata": {},
   "outputs": [],
   "source": [
    "with open('Gameinfo_with_user_110000_to_110314.pickle','rb') as f:\n",
    "        data+=pickle.load(f)"
   ]
  },
  {
   "cell_type": "code",
   "execution_count": 7,
   "metadata": {},
   "outputs": [],
   "source": [
    "with open('Gameinfo_with_user_48336_to_48925.pickle','rb') as f:\n",
    "        data+=pickle.load(f)"
   ]
  },
  {
   "cell_type": "code",
   "execution_count": 8,
   "metadata": {},
   "outputs": [
    {
     "data": {
      "text/plain": [
       "1609"
      ]
     },
     "execution_count": 8,
     "metadata": {},
     "output_type": "execute_result"
    }
   ],
   "source": [
    "len(data)"
   ]
  },
  {
   "cell_type": "code",
   "execution_count": 52,
   "metadata": {},
   "outputs": [],
   "source": [
    "#pd.DataFrame(data).to_csv('User_data.csv')"
   ]
  },
  {
   "cell_type": "code",
   "execution_count": 40,
   "metadata": {},
   "outputs": [],
   "source": [
    "df = pd.DataFrame(data[0]['participants'],columns=['summonerName','champ','chamW_R','chamKDA','recentW_R','recentKDA','totalW_R'])"
   ]
  },
  {
   "cell_type": "code",
   "execution_count": 41,
   "metadata": {},
   "outputs": [],
   "source": [
    "df['win']=data[0]['win']\n",
    "df = df.iloc[:,2:]"
   ]
  },
  {
   "cell_type": "code",
   "execution_count": 42,
   "metadata": {},
   "outputs": [
    {
     "data": {
      "text/plain": [
       "array([51.0, 3.07, 50.2, 2.944, 52.4, 0.0], dtype=object)"
      ]
     },
     "execution_count": 42,
     "metadata": {},
     "output_type": "execute_result"
    }
   ],
   "source": [
    "df = np.array(df).mean(axis=0)\n",
    "df"
   ]
  },
  {
   "cell_type": "code",
   "execution_count": 43,
   "metadata": {},
   "outputs": [],
   "source": [
    "for i in data[1:]:\n",
    "    temp = pd.DataFrame(i['participants'],columns=['summonerName','champ','chamW_R','chamKDA','recentW_R','recentKDA','totalW_R'])\n",
    "    temp['win'] = bool(i['win'])\n",
    "    temp=temp.iloc[:,2:]\n",
    "    temp = np.array(temp).mean(axis=0)\n",
    "    df = np.vstack((df,temp))\n",
    "    "
   ]
  },
  {
   "cell_type": "code",
   "execution_count": 44,
   "metadata": {},
   "outputs": [],
   "source": [
    "df = pd.DataFrame(df,columns=['chamW_R','chamKDA','recentW_R','recentKDA','totalW_R','win'])"
   ]
  },
  {
   "cell_type": "code",
   "execution_count": 45,
   "metadata": {},
   "outputs": [
    {
     "data": {
      "text/html": [
       "<div>\n",
       "<style scoped>\n",
       "    .dataframe tbody tr th:only-of-type {\n",
       "        vertical-align: middle;\n",
       "    }\n",
       "\n",
       "    .dataframe tbody tr th {\n",
       "        vertical-align: top;\n",
       "    }\n",
       "\n",
       "    .dataframe thead th {\n",
       "        text-align: right;\n",
       "    }\n",
       "</style>\n",
       "<table border=\"1\" class=\"dataframe\">\n",
       "  <thead>\n",
       "    <tr style=\"text-align: right;\">\n",
       "      <th></th>\n",
       "      <th>chamW_R</th>\n",
       "      <th>chamKDA</th>\n",
       "      <th>recentW_R</th>\n",
       "      <th>recentKDA</th>\n",
       "      <th>totalW_R</th>\n",
       "      <th>win</th>\n",
       "    </tr>\n",
       "  </thead>\n",
       "  <tbody>\n",
       "    <tr>\n",
       "      <th>0</th>\n",
       "      <td>51</td>\n",
       "      <td>3.07</td>\n",
       "      <td>50.2</td>\n",
       "      <td>2.944</td>\n",
       "      <td>52.4</td>\n",
       "      <td>0</td>\n",
       "    </tr>\n",
       "    <tr>\n",
       "      <th>1</th>\n",
       "      <td>50.6</td>\n",
       "      <td>3.048</td>\n",
       "      <td>51.8</td>\n",
       "      <td>2.794</td>\n",
       "      <td>50.8</td>\n",
       "      <td>1</td>\n",
       "    </tr>\n",
       "    <tr>\n",
       "      <th>2</th>\n",
       "      <td>51.8</td>\n",
       "      <td>3.136</td>\n",
       "      <td>49.6</td>\n",
       "      <td>3.056</td>\n",
       "      <td>51.8</td>\n",
       "      <td>0</td>\n",
       "    </tr>\n",
       "    <tr>\n",
       "      <th>3</th>\n",
       "      <td>51.8</td>\n",
       "      <td>2.428</td>\n",
       "      <td>46.6</td>\n",
       "      <td>2.618</td>\n",
       "      <td>52.2</td>\n",
       "      <td>0</td>\n",
       "    </tr>\n",
       "    <tr>\n",
       "      <th>4</th>\n",
       "      <td>57</td>\n",
       "      <td>2.9</td>\n",
       "      <td>46.4</td>\n",
       "      <td>1.954</td>\n",
       "      <td>54</td>\n",
       "      <td>0</td>\n",
       "    </tr>\n",
       "    <tr>\n",
       "      <th>...</th>\n",
       "      <td>...</td>\n",
       "      <td>...</td>\n",
       "      <td>...</td>\n",
       "      <td>...</td>\n",
       "      <td>...</td>\n",
       "      <td>...</td>\n",
       "    </tr>\n",
       "    <tr>\n",
       "      <th>1604</th>\n",
       "      <td>55.8</td>\n",
       "      <td>2.376</td>\n",
       "      <td>47.2</td>\n",
       "      <td>2.434</td>\n",
       "      <td>54.2</td>\n",
       "      <td>1</td>\n",
       "    </tr>\n",
       "    <tr>\n",
       "      <th>1605</th>\n",
       "      <td>59.4</td>\n",
       "      <td>2.94</td>\n",
       "      <td>49.6</td>\n",
       "      <td>2.444</td>\n",
       "      <td>54.6</td>\n",
       "      <td>0</td>\n",
       "    </tr>\n",
       "    <tr>\n",
       "      <th>1606</th>\n",
       "      <td>52.6</td>\n",
       "      <td>2.504</td>\n",
       "      <td>52.2</td>\n",
       "      <td>2.264</td>\n",
       "      <td>53</td>\n",
       "      <td>0</td>\n",
       "    </tr>\n",
       "    <tr>\n",
       "      <th>1607</th>\n",
       "      <td>52.2</td>\n",
       "      <td>2.216</td>\n",
       "      <td>49.6</td>\n",
       "      <td>2.194</td>\n",
       "      <td>52.8</td>\n",
       "      <td>1</td>\n",
       "    </tr>\n",
       "    <tr>\n",
       "      <th>1608</th>\n",
       "      <td>52</td>\n",
       "      <td>2.834</td>\n",
       "      <td>51.2</td>\n",
       "      <td>3.106</td>\n",
       "      <td>51.2</td>\n",
       "      <td>0</td>\n",
       "    </tr>\n",
       "  </tbody>\n",
       "</table>\n",
       "<p>1609 rows × 6 columns</p>\n",
       "</div>"
      ],
      "text/plain": [
       "     chamW_R chamKDA recentW_R recentKDA totalW_R win\n",
       "0         51    3.07      50.2     2.944     52.4   0\n",
       "1       50.6   3.048      51.8     2.794     50.8   1\n",
       "2       51.8   3.136      49.6     3.056     51.8   0\n",
       "3       51.8   2.428      46.6     2.618     52.2   0\n",
       "4         57     2.9      46.4     1.954       54   0\n",
       "...      ...     ...       ...       ...      ...  ..\n",
       "1604    55.8   2.376      47.2     2.434     54.2   1\n",
       "1605    59.4    2.94      49.6     2.444     54.6   0\n",
       "1606    52.6   2.504      52.2     2.264       53   0\n",
       "1607    52.2   2.216      49.6     2.194     52.8   1\n",
       "1608      52   2.834      51.2     3.106     51.2   0\n",
       "\n",
       "[1609 rows x 6 columns]"
      ]
     },
     "execution_count": 45,
     "metadata": {},
     "output_type": "execute_result"
    }
   ],
   "source": [
    "df"
   ]
  },
  {
   "cell_type": "code",
   "execution_count": 36,
   "metadata": {},
   "outputs": [
    {
     "data": {
      "text/html": [
       "<div>\n",
       "<style scoped>\n",
       "    .dataframe tbody tr th:only-of-type {\n",
       "        vertical-align: middle;\n",
       "    }\n",
       "\n",
       "    .dataframe tbody tr th {\n",
       "        vertical-align: top;\n",
       "    }\n",
       "\n",
       "    .dataframe thead th {\n",
       "        text-align: right;\n",
       "    }\n",
       "</style>\n",
       "<table border=\"1\" class=\"dataframe\">\n",
       "  <thead>\n",
       "    <tr style=\"text-align: right;\">\n",
       "      <th></th>\n",
       "      <th>chamW_R</th>\n",
       "      <th>chamKDA</th>\n",
       "      <th>recentW_R</th>\n",
       "      <th>recentKDA</th>\n",
       "      <th>totalW_R</th>\n",
       "      <th>win</th>\n",
       "    </tr>\n",
       "  </thead>\n",
       "  <tbody>\n",
       "    <tr>\n",
       "      <th>0</th>\n",
       "      <td>0.564304</td>\n",
       "      <td>0.262404</td>\n",
       "      <td>0.666667</td>\n",
       "      <td>0.467492</td>\n",
       "      <td>0.500000</td>\n",
       "      <td>0.0</td>\n",
       "    </tr>\n",
       "    <tr>\n",
       "      <th>1</th>\n",
       "      <td>0.559055</td>\n",
       "      <td>0.259372</td>\n",
       "      <td>0.727273</td>\n",
       "      <td>0.428793</td>\n",
       "      <td>0.461165</td>\n",
       "      <td>1.0</td>\n",
       "    </tr>\n",
       "    <tr>\n",
       "      <th>2</th>\n",
       "      <td>0.574803</td>\n",
       "      <td>0.271499</td>\n",
       "      <td>0.643939</td>\n",
       "      <td>0.496388</td>\n",
       "      <td>0.485437</td>\n",
       "      <td>0.0</td>\n",
       "    </tr>\n",
       "    <tr>\n",
       "      <th>3</th>\n",
       "      <td>0.574803</td>\n",
       "      <td>0.173925</td>\n",
       "      <td>0.530303</td>\n",
       "      <td>0.383385</td>\n",
       "      <td>0.495146</td>\n",
       "      <td>0.0</td>\n",
       "    </tr>\n",
       "    <tr>\n",
       "      <th>4</th>\n",
       "      <td>0.643045</td>\n",
       "      <td>0.238975</td>\n",
       "      <td>0.522727</td>\n",
       "      <td>0.212074</td>\n",
       "      <td>0.538835</td>\n",
       "      <td>0.0</td>\n",
       "    </tr>\n",
       "    <tr>\n",
       "      <th>...</th>\n",
       "      <td>...</td>\n",
       "      <td>...</td>\n",
       "      <td>...</td>\n",
       "      <td>...</td>\n",
       "      <td>...</td>\n",
       "      <td>...</td>\n",
       "    </tr>\n",
       "    <tr>\n",
       "      <th>1604</th>\n",
       "      <td>0.627297</td>\n",
       "      <td>0.166759</td>\n",
       "      <td>0.553030</td>\n",
       "      <td>0.335913</td>\n",
       "      <td>0.543689</td>\n",
       "      <td>1.0</td>\n",
       "    </tr>\n",
       "    <tr>\n",
       "      <th>1605</th>\n",
       "      <td>0.674541</td>\n",
       "      <td>0.244487</td>\n",
       "      <td>0.643939</td>\n",
       "      <td>0.338493</td>\n",
       "      <td>0.553398</td>\n",
       "      <td>0.0</td>\n",
       "    </tr>\n",
       "    <tr>\n",
       "      <th>1606</th>\n",
       "      <td>0.585302</td>\n",
       "      <td>0.184399</td>\n",
       "      <td>0.742424</td>\n",
       "      <td>0.292054</td>\n",
       "      <td>0.514563</td>\n",
       "      <td>0.0</td>\n",
       "    </tr>\n",
       "    <tr>\n",
       "      <th>1607</th>\n",
       "      <td>0.580052</td>\n",
       "      <td>0.144708</td>\n",
       "      <td>0.643939</td>\n",
       "      <td>0.273994</td>\n",
       "      <td>0.509709</td>\n",
       "      <td>1.0</td>\n",
       "    </tr>\n",
       "    <tr>\n",
       "      <th>1608</th>\n",
       "      <td>0.577428</td>\n",
       "      <td>0.229879</td>\n",
       "      <td>0.704545</td>\n",
       "      <td>0.509288</td>\n",
       "      <td>0.470874</td>\n",
       "      <td>0.0</td>\n",
       "    </tr>\n",
       "  </tbody>\n",
       "</table>\n",
       "<p>1609 rows × 6 columns</p>\n",
       "</div>"
      ],
      "text/plain": [
       "       chamW_R   chamKDA  recentW_R  recentKDA  totalW_R  win\n",
       "0     0.564304  0.262404   0.666667   0.467492  0.500000  0.0\n",
       "1     0.559055  0.259372   0.727273   0.428793  0.461165  1.0\n",
       "2     0.574803  0.271499   0.643939   0.496388  0.485437  0.0\n",
       "3     0.574803  0.173925   0.530303   0.383385  0.495146  0.0\n",
       "4     0.643045  0.238975   0.522727   0.212074  0.538835  0.0\n",
       "...        ...       ...        ...        ...       ...  ...\n",
       "1604  0.627297  0.166759   0.553030   0.335913  0.543689  1.0\n",
       "1605  0.674541  0.244487   0.643939   0.338493  0.553398  0.0\n",
       "1606  0.585302  0.184399   0.742424   0.292054  0.514563  0.0\n",
       "1607  0.580052  0.144708   0.643939   0.273994  0.509709  1.0\n",
       "1608  0.577428  0.229879   0.704545   0.509288  0.470874  0.0\n",
       "\n",
       "[1609 rows x 6 columns]"
      ]
     },
     "execution_count": 36,
     "metadata": {},
     "output_type": "execute_result"
    }
   ],
   "source": [
    "df2"
   ]
  },
  {
   "cell_type": "code",
   "execution_count": 18,
   "metadata": {},
   "outputs": [
    {
     "data": {
      "text/html": [
       "<div>\n",
       "<style scoped>\n",
       "    .dataframe tbody tr th:only-of-type {\n",
       "        vertical-align: middle;\n",
       "    }\n",
       "\n",
       "    .dataframe tbody tr th {\n",
       "        vertical-align: top;\n",
       "    }\n",
       "\n",
       "    .dataframe thead th {\n",
       "        text-align: right;\n",
       "    }\n",
       "</style>\n",
       "<table border=\"1\" class=\"dataframe\">\n",
       "  <thead>\n",
       "    <tr style=\"text-align: right;\">\n",
       "      <th></th>\n",
       "    </tr>\n",
       "  </thead>\n",
       "  <tbody>\n",
       "  </tbody>\n",
       "</table>\n",
       "</div>"
      ],
      "text/plain": [
       "Empty DataFrame\n",
       "Columns: []\n",
       "Index: []"
      ]
     },
     "execution_count": 18,
     "metadata": {},
     "output_type": "execute_result"
    }
   ],
   "source": [
    "df.corr(method='spearman')"
   ]
  },
  {
   "cell_type": "code",
   "execution_count": 13,
   "metadata": {},
   "outputs": [
    {
     "data": {
      "text/html": [
       "<div>\n",
       "<style scoped>\n",
       "    .dataframe tbody tr th:only-of-type {\n",
       "        vertical-align: middle;\n",
       "    }\n",
       "\n",
       "    .dataframe tbody tr th {\n",
       "        vertical-align: top;\n",
       "    }\n",
       "\n",
       "    .dataframe thead th {\n",
       "        text-align: right;\n",
       "    }\n",
       "</style>\n",
       "<table border=\"1\" class=\"dataframe\">\n",
       "  <thead>\n",
       "    <tr style=\"text-align: right;\">\n",
       "      <th></th>\n",
       "    </tr>\n",
       "  </thead>\n",
       "  <tbody>\n",
       "  </tbody>\n",
       "</table>\n",
       "</div>"
      ],
      "text/plain": [
       "Empty DataFrame\n",
       "Columns: []\n",
       "Index: []"
      ]
     },
     "execution_count": 13,
     "metadata": {},
     "output_type": "execute_result"
    }
   ],
   "source": [
    "cor"
   ]
  },
  {
   "cell_type": "code",
   "execution_count": 38,
   "metadata": {},
   "outputs": [],
   "source": [
    "df=df.iloc[:,2:]"
   ]
  },
  {
   "cell_type": "code",
   "execution_count": 26,
   "metadata": {},
   "outputs": [],
   "source": [
    "scaler = MinMaxScaler()"
   ]
  },
  {
   "cell_type": "code",
   "execution_count": 27,
   "metadata": {},
   "outputs": [
    {
     "data": {
      "text/plain": [
       "MinMaxScaler()"
      ]
     },
     "execution_count": 27,
     "metadata": {},
     "output_type": "execute_result"
    }
   ],
   "source": [
    "scaler.fit(df)"
   ]
  },
  {
   "cell_type": "code",
   "execution_count": 28,
   "metadata": {},
   "outputs": [],
   "source": [
    "df2 = pd.DataFrame(scaler.transform(df),columns=['chamW_R','chamKDA','recentW_R','recentKDA','totalW_R','win'])"
   ]
  },
  {
   "cell_type": "code",
   "execution_count": 29,
   "metadata": {},
   "outputs": [
    {
     "data": {
      "text/html": [
       "<div>\n",
       "<style scoped>\n",
       "    .dataframe tbody tr th:only-of-type {\n",
       "        vertical-align: middle;\n",
       "    }\n",
       "\n",
       "    .dataframe tbody tr th {\n",
       "        vertical-align: top;\n",
       "    }\n",
       "\n",
       "    .dataframe thead th {\n",
       "        text-align: right;\n",
       "    }\n",
       "</style>\n",
       "<table border=\"1\" class=\"dataframe\">\n",
       "  <thead>\n",
       "    <tr style=\"text-align: right;\">\n",
       "      <th></th>\n",
       "      <th>chamW_R</th>\n",
       "      <th>chamKDA</th>\n",
       "      <th>recentW_R</th>\n",
       "      <th>recentKDA</th>\n",
       "      <th>totalW_R</th>\n",
       "      <th>win</th>\n",
       "    </tr>\n",
       "  </thead>\n",
       "  <tbody>\n",
       "    <tr>\n",
       "      <th>0</th>\n",
       "      <td>0.564304</td>\n",
       "      <td>0.262404</td>\n",
       "      <td>0.666667</td>\n",
       "      <td>0.467492</td>\n",
       "      <td>0.500000</td>\n",
       "      <td>0.0</td>\n",
       "    </tr>\n",
       "    <tr>\n",
       "      <th>1</th>\n",
       "      <td>0.559055</td>\n",
       "      <td>0.259372</td>\n",
       "      <td>0.727273</td>\n",
       "      <td>0.428793</td>\n",
       "      <td>0.461165</td>\n",
       "      <td>1.0</td>\n",
       "    </tr>\n",
       "    <tr>\n",
       "      <th>2</th>\n",
       "      <td>0.574803</td>\n",
       "      <td>0.271499</td>\n",
       "      <td>0.643939</td>\n",
       "      <td>0.496388</td>\n",
       "      <td>0.485437</td>\n",
       "      <td>0.0</td>\n",
       "    </tr>\n",
       "    <tr>\n",
       "      <th>3</th>\n",
       "      <td>0.574803</td>\n",
       "      <td>0.173925</td>\n",
       "      <td>0.530303</td>\n",
       "      <td>0.383385</td>\n",
       "      <td>0.495146</td>\n",
       "      <td>0.0</td>\n",
       "    </tr>\n",
       "    <tr>\n",
       "      <th>4</th>\n",
       "      <td>0.643045</td>\n",
       "      <td>0.238975</td>\n",
       "      <td>0.522727</td>\n",
       "      <td>0.212074</td>\n",
       "      <td>0.538835</td>\n",
       "      <td>0.0</td>\n",
       "    </tr>\n",
       "    <tr>\n",
       "      <th>...</th>\n",
       "      <td>...</td>\n",
       "      <td>...</td>\n",
       "      <td>...</td>\n",
       "      <td>...</td>\n",
       "      <td>...</td>\n",
       "      <td>...</td>\n",
       "    </tr>\n",
       "    <tr>\n",
       "      <th>1604</th>\n",
       "      <td>0.627297</td>\n",
       "      <td>0.166759</td>\n",
       "      <td>0.553030</td>\n",
       "      <td>0.335913</td>\n",
       "      <td>0.543689</td>\n",
       "      <td>1.0</td>\n",
       "    </tr>\n",
       "    <tr>\n",
       "      <th>1605</th>\n",
       "      <td>0.674541</td>\n",
       "      <td>0.244487</td>\n",
       "      <td>0.643939</td>\n",
       "      <td>0.338493</td>\n",
       "      <td>0.553398</td>\n",
       "      <td>0.0</td>\n",
       "    </tr>\n",
       "    <tr>\n",
       "      <th>1606</th>\n",
       "      <td>0.585302</td>\n",
       "      <td>0.184399</td>\n",
       "      <td>0.742424</td>\n",
       "      <td>0.292054</td>\n",
       "      <td>0.514563</td>\n",
       "      <td>0.0</td>\n",
       "    </tr>\n",
       "    <tr>\n",
       "      <th>1607</th>\n",
       "      <td>0.580052</td>\n",
       "      <td>0.144708</td>\n",
       "      <td>0.643939</td>\n",
       "      <td>0.273994</td>\n",
       "      <td>0.509709</td>\n",
       "      <td>1.0</td>\n",
       "    </tr>\n",
       "    <tr>\n",
       "      <th>1608</th>\n",
       "      <td>0.577428</td>\n",
       "      <td>0.229879</td>\n",
       "      <td>0.704545</td>\n",
       "      <td>0.509288</td>\n",
       "      <td>0.470874</td>\n",
       "      <td>0.0</td>\n",
       "    </tr>\n",
       "  </tbody>\n",
       "</table>\n",
       "<p>1609 rows × 6 columns</p>\n",
       "</div>"
      ],
      "text/plain": [
       "       chamW_R   chamKDA  recentW_R  recentKDA  totalW_R  win\n",
       "0     0.564304  0.262404   0.666667   0.467492  0.500000  0.0\n",
       "1     0.559055  0.259372   0.727273   0.428793  0.461165  1.0\n",
       "2     0.574803  0.271499   0.643939   0.496388  0.485437  0.0\n",
       "3     0.574803  0.173925   0.530303   0.383385  0.495146  0.0\n",
       "4     0.643045  0.238975   0.522727   0.212074  0.538835  0.0\n",
       "...        ...       ...        ...        ...       ...  ...\n",
       "1604  0.627297  0.166759   0.553030   0.335913  0.543689  1.0\n",
       "1605  0.674541  0.244487   0.643939   0.338493  0.553398  0.0\n",
       "1606  0.585302  0.184399   0.742424   0.292054  0.514563  0.0\n",
       "1607  0.580052  0.144708   0.643939   0.273994  0.509709  1.0\n",
       "1608  0.577428  0.229879   0.704545   0.509288  0.470874  0.0\n",
       "\n",
       "[1609 rows x 6 columns]"
      ]
     },
     "execution_count": 29,
     "metadata": {},
     "output_type": "execute_result"
    }
   ],
   "source": [
    "df2"
   ]
  },
  {
   "cell_type": "code",
   "execution_count": 30,
   "metadata": {},
   "outputs": [
    {
     "data": {
      "text/html": [
       "<div>\n",
       "<style scoped>\n",
       "    .dataframe tbody tr th:only-of-type {\n",
       "        vertical-align: middle;\n",
       "    }\n",
       "\n",
       "    .dataframe tbody tr th {\n",
       "        vertical-align: top;\n",
       "    }\n",
       "\n",
       "    .dataframe thead th {\n",
       "        text-align: right;\n",
       "    }\n",
       "</style>\n",
       "<table border=\"1\" class=\"dataframe\">\n",
       "  <thead>\n",
       "    <tr style=\"text-align: right;\">\n",
       "      <th></th>\n",
       "      <th>chamW_R</th>\n",
       "      <th>chamKDA</th>\n",
       "      <th>recentW_R</th>\n",
       "      <th>recentKDA</th>\n",
       "      <th>totalW_R</th>\n",
       "      <th>win</th>\n",
       "    </tr>\n",
       "  </thead>\n",
       "  <tbody>\n",
       "    <tr>\n",
       "      <th>chamW_R</th>\n",
       "      <td>1.000000</td>\n",
       "      <td>0.534616</td>\n",
       "      <td>0.126920</td>\n",
       "      <td>0.149334</td>\n",
       "      <td>0.357452</td>\n",
       "      <td>0.363036</td>\n",
       "    </tr>\n",
       "    <tr>\n",
       "      <th>chamKDA</th>\n",
       "      <td>0.534616</td>\n",
       "      <td>1.000000</td>\n",
       "      <td>0.147927</td>\n",
       "      <td>0.363831</td>\n",
       "      <td>0.290998</td>\n",
       "      <td>0.183346</td>\n",
       "    </tr>\n",
       "    <tr>\n",
       "      <th>recentW_R</th>\n",
       "      <td>0.126920</td>\n",
       "      <td>0.147927</td>\n",
       "      <td>1.000000</td>\n",
       "      <td>0.436839</td>\n",
       "      <td>0.177591</td>\n",
       "      <td>0.015698</td>\n",
       "    </tr>\n",
       "    <tr>\n",
       "      <th>recentKDA</th>\n",
       "      <td>0.149334</td>\n",
       "      <td>0.363831</td>\n",
       "      <td>0.436839</td>\n",
       "      <td>1.000000</td>\n",
       "      <td>0.238271</td>\n",
       "      <td>0.069476</td>\n",
       "    </tr>\n",
       "    <tr>\n",
       "      <th>totalW_R</th>\n",
       "      <td>0.357452</td>\n",
       "      <td>0.290998</td>\n",
       "      <td>0.177591</td>\n",
       "      <td>0.238271</td>\n",
       "      <td>1.000000</td>\n",
       "      <td>0.122818</td>\n",
       "    </tr>\n",
       "    <tr>\n",
       "      <th>win</th>\n",
       "      <td>0.363036</td>\n",
       "      <td>0.183346</td>\n",
       "      <td>0.015698</td>\n",
       "      <td>0.069476</td>\n",
       "      <td>0.122818</td>\n",
       "      <td>1.000000</td>\n",
       "    </tr>\n",
       "  </tbody>\n",
       "</table>\n",
       "</div>"
      ],
      "text/plain": [
       "            chamW_R   chamKDA  recentW_R  recentKDA  totalW_R       win\n",
       "chamW_R    1.000000  0.534616   0.126920   0.149334  0.357452  0.363036\n",
       "chamKDA    0.534616  1.000000   0.147927   0.363831  0.290998  0.183346\n",
       "recentW_R  0.126920  0.147927   1.000000   0.436839  0.177591  0.015698\n",
       "recentKDA  0.149334  0.363831   0.436839   1.000000  0.238271  0.069476\n",
       "totalW_R   0.357452  0.290998   0.177591   0.238271  1.000000  0.122818\n",
       "win        0.363036  0.183346   0.015698   0.069476  0.122818  1.000000"
      ]
     },
     "execution_count": 30,
     "metadata": {},
     "output_type": "execute_result"
    }
   ],
   "source": [
    "cor2=df2.corr()\n",
    "cor2"
   ]
  },
  {
   "cell_type": "code",
   "execution_count": 53,
   "metadata": {},
   "outputs": [
    {
     "data": {
      "text/html": [
       "<div>\n",
       "<style scoped>\n",
       "    .dataframe tbody tr th:only-of-type {\n",
       "        vertical-align: middle;\n",
       "    }\n",
       "\n",
       "    .dataframe tbody tr th {\n",
       "        vertical-align: top;\n",
       "    }\n",
       "\n",
       "    .dataframe thead th {\n",
       "        text-align: right;\n",
       "    }\n",
       "</style>\n",
       "<table border=\"1\" class=\"dataframe\">\n",
       "  <thead>\n",
       "    <tr style=\"text-align: right;\">\n",
       "      <th></th>\n",
       "      <th>chamW_R</th>\n",
       "      <th>chamKDA</th>\n",
       "      <th>recentW_R</th>\n",
       "      <th>recentKDA</th>\n",
       "      <th>totalW_R</th>\n",
       "      <th>win</th>\n",
       "    </tr>\n",
       "  </thead>\n",
       "  <tbody>\n",
       "    <tr>\n",
       "      <th>chamW_R</th>\n",
       "      <td>1.000000</td>\n",
       "      <td>0.479773</td>\n",
       "      <td>0.077386</td>\n",
       "      <td>0.092449</td>\n",
       "      <td>0.250065</td>\n",
       "      <td>0.189383</td>\n",
       "    </tr>\n",
       "    <tr>\n",
       "      <th>chamKDA</th>\n",
       "      <td>0.479773</td>\n",
       "      <td>1.000000</td>\n",
       "      <td>0.219957</td>\n",
       "      <td>0.350657</td>\n",
       "      <td>0.213003</td>\n",
       "      <td>0.083252</td>\n",
       "    </tr>\n",
       "    <tr>\n",
       "      <th>recentW_R</th>\n",
       "      <td>0.077386</td>\n",
       "      <td>0.219957</td>\n",
       "      <td>1.000000</td>\n",
       "      <td>0.505292</td>\n",
       "      <td>0.105894</td>\n",
       "      <td>0.006109</td>\n",
       "    </tr>\n",
       "    <tr>\n",
       "      <th>recentKDA</th>\n",
       "      <td>0.092449</td>\n",
       "      <td>0.350657</td>\n",
       "      <td>0.505292</td>\n",
       "      <td>1.000000</td>\n",
       "      <td>0.185709</td>\n",
       "      <td>0.030758</td>\n",
       "    </tr>\n",
       "    <tr>\n",
       "      <th>totalW_R</th>\n",
       "      <td>0.250065</td>\n",
       "      <td>0.213003</td>\n",
       "      <td>0.105894</td>\n",
       "      <td>0.185709</td>\n",
       "      <td>1.000000</td>\n",
       "      <td>0.062504</td>\n",
       "    </tr>\n",
       "    <tr>\n",
       "      <th>win</th>\n",
       "      <td>0.189383</td>\n",
       "      <td>0.083252</td>\n",
       "      <td>0.006109</td>\n",
       "      <td>0.030758</td>\n",
       "      <td>0.062504</td>\n",
       "      <td>1.000000</td>\n",
       "    </tr>\n",
       "  </tbody>\n",
       "</table>\n",
       "</div>"
      ],
      "text/plain": [
       "            chamW_R   chamKDA  recentW_R  recentKDA  totalW_R       win\n",
       "chamW_R    1.000000  0.479773   0.077386   0.092449  0.250065  0.189383\n",
       "chamKDA    0.479773  1.000000   0.219957   0.350657  0.213003  0.083252\n",
       "recentW_R  0.077386  0.219957   1.000000   0.505292  0.105894  0.006109\n",
       "recentKDA  0.092449  0.350657   0.505292   1.000000  0.185709  0.030758\n",
       "totalW_R   0.250065  0.213003   0.105894   0.185709  1.000000  0.062504\n",
       "win        0.189383  0.083252   0.006109   0.030758  0.062504  1.000000"
      ]
     },
     "execution_count": 53,
     "metadata": {},
     "output_type": "execute_result"
    }
   ],
   "source": [
    "cor"
   ]
  },
  {
   "cell_type": "code",
   "execution_count": 2,
   "metadata": {},
   "outputs": [],
   "source": [
    "SVM = svm.SVC()\n",
    "LR = LogisticRegression()"
   ]
  },
  {
   "cell_type": "code",
   "execution_count": 46,
   "metadata": {},
   "outputs": [],
   "source": [
    "X=df.iloc[:,:-1]\n",
    "y=df.iloc[:,-1:]"
   ]
  },
  {
   "cell_type": "code",
   "execution_count": 59,
   "metadata": {},
   "outputs": [
    {
     "data": {
      "text/plain": [
       "chamW_R      0\n",
       "chamKDA      0\n",
       "recentW_R    0\n",
       "recentKDA    0\n",
       "totalW_R     0\n",
       "dtype: int64"
      ]
     },
     "execution_count": 59,
     "metadata": {},
     "output_type": "execute_result"
    }
   ],
   "source": [
    "X.isnull().sum()"
   ]
  },
  {
   "cell_type": "code",
   "execution_count": 62,
   "metadata": {},
   "outputs": [
    {
     "data": {
      "text/html": [
       "<div>\n",
       "<style scoped>\n",
       "    .dataframe tbody tr th:only-of-type {\n",
       "        vertical-align: middle;\n",
       "    }\n",
       "\n",
       "    .dataframe tbody tr th {\n",
       "        vertical-align: top;\n",
       "    }\n",
       "\n",
       "    .dataframe thead th {\n",
       "        text-align: right;\n",
       "    }\n",
       "</style>\n",
       "<table border=\"1\" class=\"dataframe\">\n",
       "  <thead>\n",
       "    <tr style=\"text-align: right;\">\n",
       "      <th></th>\n",
       "      <th>win</th>\n",
       "    </tr>\n",
       "  </thead>\n",
       "  <tbody>\n",
       "    <tr>\n",
       "      <th>0</th>\n",
       "      <td>0</td>\n",
       "    </tr>\n",
       "    <tr>\n",
       "      <th>1</th>\n",
       "      <td>1</td>\n",
       "    </tr>\n",
       "    <tr>\n",
       "      <th>2</th>\n",
       "      <td>0</td>\n",
       "    </tr>\n",
       "    <tr>\n",
       "      <th>3</th>\n",
       "      <td>0</td>\n",
       "    </tr>\n",
       "    <tr>\n",
       "      <th>4</th>\n",
       "      <td>0</td>\n",
       "    </tr>\n",
       "    <tr>\n",
       "      <th>...</th>\n",
       "      <td>...</td>\n",
       "    </tr>\n",
       "    <tr>\n",
       "      <th>1604</th>\n",
       "      <td>1</td>\n",
       "    </tr>\n",
       "    <tr>\n",
       "      <th>1605</th>\n",
       "      <td>0</td>\n",
       "    </tr>\n",
       "    <tr>\n",
       "      <th>1606</th>\n",
       "      <td>0</td>\n",
       "    </tr>\n",
       "    <tr>\n",
       "      <th>1607</th>\n",
       "      <td>1</td>\n",
       "    </tr>\n",
       "    <tr>\n",
       "      <th>1608</th>\n",
       "      <td>0</td>\n",
       "    </tr>\n",
       "  </tbody>\n",
       "</table>\n",
       "<p>1609 rows × 1 columns</p>\n",
       "</div>"
      ],
      "text/plain": [
       "     win\n",
       "0      0\n",
       "1      1\n",
       "2      0\n",
       "3      0\n",
       "4      0\n",
       "...   ..\n",
       "1604   1\n",
       "1605   0\n",
       "1606   0\n",
       "1607   1\n",
       "1608   0\n",
       "\n",
       "[1609 rows x 1 columns]"
      ]
     },
     "execution_count": 62,
     "metadata": {},
     "output_type": "execute_result"
    }
   ],
   "source": []
  },
  {
   "cell_type": "code",
   "execution_count": 64,
   "metadata": {
    "scrolled": false
   },
   "outputs": [
    {
     "name": "stderr",
     "output_type": "stream",
     "text": [
      "C:\\Users\\DongwonLee\\anaconda3\\lib\\site-packages\\sklearn\\utils\\validation.py:73: DataConversionWarning: A column-vector y was passed when a 1d array was expected. Please change the shape of y to (n_samples, ), for example using ravel().\n",
      "  return f(**kwargs)\n",
      "C:\\Users\\DongwonLee\\anaconda3\\lib\\site-packages\\sklearn\\utils\\validation.py:73: DataConversionWarning: A column-vector y was passed when a 1d array was expected. Please change the shape of y to (n_samples, ), for example using ravel().\n",
      "  return f(**kwargs)\n"
     ]
    },
    {
     "data": {
      "text/plain": [
       "LogisticRegression()"
      ]
     },
     "execution_count": 64,
     "metadata": {},
     "output_type": "execute_result"
    }
   ],
   "source": [
    "SVM.fit(X,y)\n",
    "LR.fit(X,y)"
   ]
  },
  {
   "cell_type": "code",
   "execution_count": 65,
   "metadata": {},
   "outputs": [
    {
     "data": {
      "text/plain": [
       "0.6544437538844002"
      ]
     },
     "execution_count": 65,
     "metadata": {},
     "output_type": "execute_result"
    }
   ],
   "source": [
    "SVM.score(X,y)"
   ]
  },
  {
   "cell_type": "code",
   "execution_count": 69,
   "metadata": {},
   "outputs": [
    {
     "data": {
      "text/plain": [
       "0.6507147296457427"
      ]
     },
     "execution_count": 69,
     "metadata": {},
     "output_type": "execute_result"
    }
   ],
   "source": [
    "LR.score(X,y)"
   ]
  },
  {
   "cell_type": "code",
   "execution_count": 28,
   "metadata": {},
   "outputs": [],
   "source": [
    "tsne = TSNE(n_components=1,learning_rate=100.0)"
   ]
  },
  {
   "cell_type": "code",
   "execution_count": 47,
   "metadata": {},
   "outputs": [],
   "source": [
    "tsne_results = tsne.fit_transform(X)"
   ]
  },
  {
   "cell_type": "code",
   "execution_count": 51,
   "metadata": {},
   "outputs": [],
   "source": [
    "#pd.DataFrame(tsne_results).to_csv('User_tsne.csv')"
   ]
  },
  {
   "cell_type": "code",
   "execution_count": null,
   "metadata": {},
   "outputs": [],
   "source": []
  }
 ],
 "metadata": {
  "kernelspec": {
   "display_name": "Python 3",
   "language": "python",
   "name": "python3"
  },
  "language_info": {
   "codemirror_mode": {
    "name": "ipython",
    "version": 3
   },
   "file_extension": ".py",
   "mimetype": "text/x-python",
   "name": "python",
   "nbconvert_exporter": "python",
   "pygments_lexer": "ipython3",
   "version": "3.8.3"
  }
 },
 "nbformat": 4,
 "nbformat_minor": 4
}
