{
 "cells": [
  {
   "cell_type": "code",
   "execution_count": 44,
   "metadata": {},
   "outputs": [],
   "source": [
    "from sklearn.model_selection import cross_val_score\n",
    "from sklearn.neighbors import KNeighborsClassifier\n",
    "from sklearn.model_selection import GridSearchCV\n",
    "from sklearn import svm\n",
    "from sklearn.manifold import TSNE\n",
    "from sklearn.decomposition import PCA\n",
    "import numpy as np\n",
    "import matplotlib.pyplot as plt\n",
    "import pandas as pd\n",
    "import seaborn as sns\n",
    "import umap"
   ]
  },
  {
   "cell_type": "code",
   "execution_count": 23,
   "metadata": {},
   "outputs": [],
   "source": [
    "df = pd.read_csv('Join_data.csv').iloc[:,1:]"
   ]
  },
  {
   "cell_type": "code",
   "execution_count": 24,
   "metadata": {},
   "outputs": [
    {
     "data": {
      "text/html": [
       "<div>\n",
       "<style scoped>\n",
       "    .dataframe tbody tr th:only-of-type {\n",
       "        vertical-align: middle;\n",
       "    }\n",
       "\n",
       "    .dataframe tbody tr th {\n",
       "        vertical-align: top;\n",
       "    }\n",
       "\n",
       "    .dataframe thead th {\n",
       "        text-align: right;\n",
       "    }\n",
       "</style>\n",
       "<table border=\"1\" class=\"dataframe\">\n",
       "  <thead>\n",
       "    <tr style=\"text-align: right;\">\n",
       "      <th></th>\n",
       "      <th>gameId</th>\n",
       "      <th>teamId</th>\n",
       "      <th>champ_WR_dif</th>\n",
       "      <th>user_champ_WR</th>\n",
       "      <th>top_tier</th>\n",
       "      <th>jug_tier</th>\n",
       "      <th>mid_tier</th>\n",
       "      <th>carry_tier</th>\n",
       "      <th>support_tier</th>\n",
       "      <th>c_top_tier</th>\n",
       "      <th>...</th>\n",
       "      <th>marksman</th>\n",
       "      <th>controller</th>\n",
       "      <th>c_slayer</th>\n",
       "      <th>c_tank</th>\n",
       "      <th>c_fighter</th>\n",
       "      <th>c_mage</th>\n",
       "      <th>c_marksman</th>\n",
       "      <th>c_controller</th>\n",
       "      <th>match_cnt</th>\n",
       "      <th>win</th>\n",
       "    </tr>\n",
       "  </thead>\n",
       "  <tbody>\n",
       "    <tr>\n",
       "      <th>gameId</th>\n",
       "      <td>1.000000</td>\n",
       "      <td>0.043550</td>\n",
       "      <td>-0.066775</td>\n",
       "      <td>0.008772</td>\n",
       "      <td>-0.029896</td>\n",
       "      <td>0.001377</td>\n",
       "      <td>-0.019604</td>\n",
       "      <td>-0.004242</td>\n",
       "      <td>-0.031767</td>\n",
       "      <td>-0.037417</td>\n",
       "      <td>...</td>\n",
       "      <td>0.017579</td>\n",
       "      <td>-0.070844</td>\n",
       "      <td>-0.040217</td>\n",
       "      <td>0.028312</td>\n",
       "      <td>0.007361</td>\n",
       "      <td>0.037591</td>\n",
       "      <td>-0.013598</td>\n",
       "      <td>-0.029054</td>\n",
       "      <td>-0.110313</td>\n",
       "      <td>-0.000361</td>\n",
       "    </tr>\n",
       "    <tr>\n",
       "      <th>teamId</th>\n",
       "      <td>0.043550</td>\n",
       "      <td>1.000000</td>\n",
       "      <td>-0.137012</td>\n",
       "      <td>0.010114</td>\n",
       "      <td>0.024701</td>\n",
       "      <td>0.022401</td>\n",
       "      <td>0.004474</td>\n",
       "      <td>0.044557</td>\n",
       "      <td>0.006939</td>\n",
       "      <td>-0.012979</td>\n",
       "      <td>...</td>\n",
       "      <td>-0.013610</td>\n",
       "      <td>0.026239</td>\n",
       "      <td>-0.016477</td>\n",
       "      <td>0.035207</td>\n",
       "      <td>-0.005801</td>\n",
       "      <td>0.029360</td>\n",
       "      <td>-0.014568</td>\n",
       "      <td>-0.035903</td>\n",
       "      <td>-0.024535</td>\n",
       "      <td>-0.016757</td>\n",
       "    </tr>\n",
       "    <tr>\n",
       "      <th>champ_WR_dif</th>\n",
       "      <td>-0.066775</td>\n",
       "      <td>-0.137012</td>\n",
       "      <td>1.000000</td>\n",
       "      <td>0.058302</td>\n",
       "      <td>0.000087</td>\n",
       "      <td>-0.060093</td>\n",
       "      <td>-0.008711</td>\n",
       "      <td>-0.168896</td>\n",
       "      <td>-0.114253</td>\n",
       "      <td>0.126065</td>\n",
       "      <td>...</td>\n",
       "      <td>-0.049037</td>\n",
       "      <td>0.011872</td>\n",
       "      <td>0.036244</td>\n",
       "      <td>-0.244821</td>\n",
       "      <td>0.089626</td>\n",
       "      <td>0.076933</td>\n",
       "      <td>0.034980</td>\n",
       "      <td>-0.009854</td>\n",
       "      <td>0.070583</td>\n",
       "      <td>0.054047</td>\n",
       "    </tr>\n",
       "    <tr>\n",
       "      <th>user_champ_WR</th>\n",
       "      <td>0.008772</td>\n",
       "      <td>0.010114</td>\n",
       "      <td>0.058302</td>\n",
       "      <td>1.000000</td>\n",
       "      <td>0.020281</td>\n",
       "      <td>-0.021419</td>\n",
       "      <td>-0.018010</td>\n",
       "      <td>-0.070491</td>\n",
       "      <td>0.004413</td>\n",
       "      <td>-0.000604</td>\n",
       "      <td>...</td>\n",
       "      <td>-0.035101</td>\n",
       "      <td>0.034870</td>\n",
       "      <td>0.009343</td>\n",
       "      <td>-0.002706</td>\n",
       "      <td>-0.038699</td>\n",
       "      <td>0.056407</td>\n",
       "      <td>0.016003</td>\n",
       "      <td>-0.037013</td>\n",
       "      <td>0.106546</td>\n",
       "      <td>0.439009</td>\n",
       "    </tr>\n",
       "    <tr>\n",
       "      <th>top_tier</th>\n",
       "      <td>-0.029896</td>\n",
       "      <td>0.024701</td>\n",
       "      <td>0.000087</td>\n",
       "      <td>0.020281</td>\n",
       "      <td>1.000000</td>\n",
       "      <td>-0.035172</td>\n",
       "      <td>-0.011685</td>\n",
       "      <td>-0.003128</td>\n",
       "      <td>0.002182</td>\n",
       "      <td>0.003451</td>\n",
       "      <td>...</td>\n",
       "      <td>0.050209</td>\n",
       "      <td>0.069611</td>\n",
       "      <td>-0.022445</td>\n",
       "      <td>-0.009981</td>\n",
       "      <td>0.002819</td>\n",
       "      <td>0.012357</td>\n",
       "      <td>0.033100</td>\n",
       "      <td>-0.011981</td>\n",
       "      <td>0.031466</td>\n",
       "      <td>-0.010304</td>\n",
       "    </tr>\n",
       "    <tr>\n",
       "      <th>jug_tier</th>\n",
       "      <td>0.001377</td>\n",
       "      <td>0.022401</td>\n",
       "      <td>-0.060093</td>\n",
       "      <td>-0.021419</td>\n",
       "      <td>-0.035172</td>\n",
       "      <td>1.000000</td>\n",
       "      <td>0.049447</td>\n",
       "      <td>0.000691</td>\n",
       "      <td>-0.004356</td>\n",
       "      <td>0.019598</td>\n",
       "      <td>...</td>\n",
       "      <td>-0.286550</td>\n",
       "      <td>-0.006109</td>\n",
       "      <td>-0.027426</td>\n",
       "      <td>0.039545</td>\n",
       "      <td>-0.000026</td>\n",
       "      <td>-0.020383</td>\n",
       "      <td>0.024894</td>\n",
       "      <td>-0.012681</td>\n",
       "      <td>-0.060041</td>\n",
       "      <td>-0.010229</td>\n",
       "    </tr>\n",
       "    <tr>\n",
       "      <th>mid_tier</th>\n",
       "      <td>-0.019604</td>\n",
       "      <td>0.004474</td>\n",
       "      <td>-0.008711</td>\n",
       "      <td>-0.018010</td>\n",
       "      <td>-0.011685</td>\n",
       "      <td>0.049447</td>\n",
       "      <td>1.000000</td>\n",
       "      <td>-0.004152</td>\n",
       "      <td>0.026894</td>\n",
       "      <td>0.003773</td>\n",
       "      <td>...</td>\n",
       "      <td>-0.015725</td>\n",
       "      <td>0.088775</td>\n",
       "      <td>-0.007120</td>\n",
       "      <td>-0.004529</td>\n",
       "      <td>-0.010040</td>\n",
       "      <td>-0.012464</td>\n",
       "      <td>0.008990</td>\n",
       "      <td>0.035300</td>\n",
       "      <td>0.023185</td>\n",
       "      <td>-0.010404</td>\n",
       "    </tr>\n",
       "    <tr>\n",
       "      <th>carry_tier</th>\n",
       "      <td>-0.004242</td>\n",
       "      <td>0.044557</td>\n",
       "      <td>-0.168896</td>\n",
       "      <td>-0.070491</td>\n",
       "      <td>-0.003128</td>\n",
       "      <td>0.000691</td>\n",
       "      <td>-0.004152</td>\n",
       "      <td>1.000000</td>\n",
       "      <td>0.081664</td>\n",
       "      <td>0.007446</td>\n",
       "      <td>...</td>\n",
       "      <td>-0.215299</td>\n",
       "      <td>0.092971</td>\n",
       "      <td>-0.039683</td>\n",
       "      <td>-0.002875</td>\n",
       "      <td>0.038941</td>\n",
       "      <td>0.012002</td>\n",
       "      <td>0.001992</td>\n",
       "      <td>-0.021572</td>\n",
       "      <td>0.008202</td>\n",
       "      <td>-0.060120</td>\n",
       "    </tr>\n",
       "    <tr>\n",
       "      <th>support_tier</th>\n",
       "      <td>-0.031767</td>\n",
       "      <td>0.006939</td>\n",
       "      <td>-0.114253</td>\n",
       "      <td>0.004413</td>\n",
       "      <td>0.002182</td>\n",
       "      <td>-0.004356</td>\n",
       "      <td>0.026894</td>\n",
       "      <td>0.081664</td>\n",
       "      <td>1.000000</td>\n",
       "      <td>0.010220</td>\n",
       "      <td>...</td>\n",
       "      <td>0.022724</td>\n",
       "      <td>0.100704</td>\n",
       "      <td>-0.034670</td>\n",
       "      <td>-0.020129</td>\n",
       "      <td>0.005483</td>\n",
       "      <td>0.005550</td>\n",
       "      <td>-0.007383</td>\n",
       "      <td>0.058305</td>\n",
       "      <td>-0.060757</td>\n",
       "      <td>-0.013617</td>\n",
       "    </tr>\n",
       "    <tr>\n",
       "      <th>c_top_tier</th>\n",
       "      <td>-0.037417</td>\n",
       "      <td>-0.012979</td>\n",
       "      <td>0.126065</td>\n",
       "      <td>-0.000604</td>\n",
       "      <td>0.003451</td>\n",
       "      <td>0.019598</td>\n",
       "      <td>0.003773</td>\n",
       "      <td>0.007446</td>\n",
       "      <td>0.010220</td>\n",
       "      <td>1.000000</td>\n",
       "      <td>...</td>\n",
       "      <td>-0.038544</td>\n",
       "      <td>-0.011215</td>\n",
       "      <td>-0.010739</td>\n",
       "      <td>-0.119056</td>\n",
       "      <td>-0.037107</td>\n",
       "      <td>0.056038</td>\n",
       "      <td>0.054120</td>\n",
       "      <td>0.087729</td>\n",
       "      <td>-0.024205</td>\n",
       "      <td>0.022961</td>\n",
       "    </tr>\n",
       "    <tr>\n",
       "      <th>c_jug_tier</th>\n",
       "      <td>-0.025205</td>\n",
       "      <td>-0.015018</td>\n",
       "      <td>0.062827</td>\n",
       "      <td>-0.053999</td>\n",
       "      <td>0.012324</td>\n",
       "      <td>-0.040587</td>\n",
       "      <td>0.022413</td>\n",
       "      <td>0.041360</td>\n",
       "      <td>0.026976</td>\n",
       "      <td>0.019400</td>\n",
       "      <td>...</td>\n",
       "      <td>0.014719</td>\n",
       "      <td>0.022129</td>\n",
       "      <td>0.060107</td>\n",
       "      <td>-0.103827</td>\n",
       "      <td>0.081460</td>\n",
       "      <td>0.149133</td>\n",
       "      <td>-0.275812</td>\n",
       "      <td>0.013895</td>\n",
       "      <td>-0.029658</td>\n",
       "      <td>0.008437</td>\n",
       "    </tr>\n",
       "    <tr>\n",
       "      <th>c_mid_tier</th>\n",
       "      <td>0.004112</td>\n",
       "      <td>0.018431</td>\n",
       "      <td>0.046637</td>\n",
       "      <td>0.014687</td>\n",
       "      <td>-0.014143</td>\n",
       "      <td>0.053728</td>\n",
       "      <td>0.041965</td>\n",
       "      <td>0.005038</td>\n",
       "      <td>0.000918</td>\n",
       "      <td>0.009817</td>\n",
       "      <td>...</td>\n",
       "      <td>-0.051185</td>\n",
       "      <td>-0.004488</td>\n",
       "      <td>-0.167658</td>\n",
       "      <td>-0.009238</td>\n",
       "      <td>0.064523</td>\n",
       "      <td>0.036282</td>\n",
       "      <td>-0.025308</td>\n",
       "      <td>0.100214</td>\n",
       "      <td>-0.005930</td>\n",
       "      <td>0.030374</td>\n",
       "    </tr>\n",
       "    <tr>\n",
       "      <th>c_carry_tier</th>\n",
       "      <td>-0.097382</td>\n",
       "      <td>0.015381</td>\n",
       "      <td>0.186706</td>\n",
       "      <td>0.014047</td>\n",
       "      <td>0.038062</td>\n",
       "      <td>0.047606</td>\n",
       "      <td>-0.008765</td>\n",
       "      <td>-0.130267</td>\n",
       "      <td>-0.003976</td>\n",
       "      <td>0.001810</td>\n",
       "      <td>...</td>\n",
       "      <td>0.023465</td>\n",
       "      <td>0.011494</td>\n",
       "      <td>-0.022087</td>\n",
       "      <td>-0.022831</td>\n",
       "      <td>0.072866</td>\n",
       "      <td>0.035726</td>\n",
       "      <td>-0.178895</td>\n",
       "      <td>0.076107</td>\n",
       "      <td>-0.032855</td>\n",
       "      <td>0.005324</td>\n",
       "    </tr>\n",
       "    <tr>\n",
       "      <th>c_support_tier</th>\n",
       "      <td>-0.027519</td>\n",
       "      <td>0.016767</td>\n",
       "      <td>0.053491</td>\n",
       "      <td>-0.038952</td>\n",
       "      <td>-0.016109</td>\n",
       "      <td>-0.005290</td>\n",
       "      <td>-0.028099</td>\n",
       "      <td>-0.012975</td>\n",
       "      <td>-0.010547</td>\n",
       "      <td>0.041306</td>\n",
       "      <td>...</td>\n",
       "      <td>0.015443</td>\n",
       "      <td>0.011351</td>\n",
       "      <td>0.024335</td>\n",
       "      <td>-0.242807</td>\n",
       "      <td>0.002772</td>\n",
       "      <td>0.100290</td>\n",
       "      <td>-0.005555</td>\n",
       "      <td>0.137898</td>\n",
       "      <td>0.026637</td>\n",
       "      <td>0.038472</td>\n",
       "    </tr>\n",
       "    <tr>\n",
       "      <th>slayer</th>\n",
       "      <td>-0.050576</td>\n",
       "      <td>-0.006897</td>\n",
       "      <td>-0.034608</td>\n",
       "      <td>-0.001403</td>\n",
       "      <td>0.001215</td>\n",
       "      <td>0.054160</td>\n",
       "      <td>-0.202775</td>\n",
       "      <td>0.046696</td>\n",
       "      <td>0.014358</td>\n",
       "      <td>-0.016428</td>\n",
       "      <td>...</td>\n",
       "      <td>-0.199628</td>\n",
       "      <td>-0.070738</td>\n",
       "      <td>-0.039059</td>\n",
       "      <td>0.019478</td>\n",
       "      <td>0.069171</td>\n",
       "      <td>-0.021502</td>\n",
       "      <td>-0.059755</td>\n",
       "      <td>0.007816</td>\n",
       "      <td>0.047169</td>\n",
       "      <td>-0.002845</td>\n",
       "    </tr>\n",
       "    <tr>\n",
       "      <th>tank</th>\n",
       "      <td>0.018238</td>\n",
       "      <td>-0.004563</td>\n",
       "      <td>0.203475</td>\n",
       "      <td>-0.032052</td>\n",
       "      <td>-0.116496</td>\n",
       "      <td>-0.064420</td>\n",
       "      <td>0.047548</td>\n",
       "      <td>0.002656</td>\n",
       "      <td>-0.252059</td>\n",
       "      <td>0.015041</td>\n",
       "      <td>...</td>\n",
       "      <td>-0.025459</td>\n",
       "      <td>-0.292025</td>\n",
       "      <td>0.042906</td>\n",
       "      <td>-0.054049</td>\n",
       "      <td>0.040807</td>\n",
       "      <td>-0.022089</td>\n",
       "      <td>-0.020400</td>\n",
       "      <td>0.000314</td>\n",
       "      <td>0.045360</td>\n",
       "      <td>-0.006101</td>\n",
       "    </tr>\n",
       "    <tr>\n",
       "      <th>fighter</th>\n",
       "      <td>-0.029166</td>\n",
       "      <td>0.001633</td>\n",
       "      <td>-0.095986</td>\n",
       "      <td>-0.018972</td>\n",
       "      <td>-0.059515</td>\n",
       "      <td>0.067290</td>\n",
       "      <td>0.036978</td>\n",
       "      <td>0.050398</td>\n",
       "      <td>0.039540</td>\n",
       "      <td>0.033546</td>\n",
       "      <td>...</td>\n",
       "      <td>-0.378305</td>\n",
       "      <td>-0.134812</td>\n",
       "      <td>-0.009248</td>\n",
       "      <td>-0.002629</td>\n",
       "      <td>-0.047469</td>\n",
       "      <td>0.022458</td>\n",
       "      <td>0.023969</td>\n",
       "      <td>0.032324</td>\n",
       "      <td>-0.040979</td>\n",
       "      <td>-0.001966</td>\n",
       "    </tr>\n",
       "    <tr>\n",
       "      <th>mage</th>\n",
       "      <td>0.102951</td>\n",
       "      <td>-0.000754</td>\n",
       "      <td>-0.026461</td>\n",
       "      <td>0.053733</td>\n",
       "      <td>0.086798</td>\n",
       "      <td>0.158839</td>\n",
       "      <td>0.043939</td>\n",
       "      <td>-0.009601</td>\n",
       "      <td>0.089900</td>\n",
       "      <td>0.000676</td>\n",
       "      <td>...</td>\n",
       "      <td>-0.073078</td>\n",
       "      <td>-0.213063</td>\n",
       "      <td>-0.018991</td>\n",
       "      <td>0.007279</td>\n",
       "      <td>-0.037553</td>\n",
       "      <td>0.026426</td>\n",
       "      <td>0.022234</td>\n",
       "      <td>0.014723</td>\n",
       "      <td>-0.049664</td>\n",
       "      <td>0.034844</td>\n",
       "    </tr>\n",
       "    <tr>\n",
       "      <th>marksman</th>\n",
       "      <td>0.017579</td>\n",
       "      <td>-0.013610</td>\n",
       "      <td>-0.049037</td>\n",
       "      <td>-0.035101</td>\n",
       "      <td>0.050209</td>\n",
       "      <td>-0.286550</td>\n",
       "      <td>-0.015725</td>\n",
       "      <td>-0.215299</td>\n",
       "      <td>0.022724</td>\n",
       "      <td>-0.038544</td>\n",
       "      <td>...</td>\n",
       "      <td>1.000000</td>\n",
       "      <td>-0.068176</td>\n",
       "      <td>0.032204</td>\n",
       "      <td>0.026158</td>\n",
       "      <td>0.004281</td>\n",
       "      <td>-0.021935</td>\n",
       "      <td>-0.029380</td>\n",
       "      <td>-0.021167</td>\n",
       "      <td>-0.059848</td>\n",
       "      <td>-0.026427</td>\n",
       "    </tr>\n",
       "    <tr>\n",
       "      <th>controller</th>\n",
       "      <td>-0.070844</td>\n",
       "      <td>0.026239</td>\n",
       "      <td>0.011872</td>\n",
       "      <td>0.034870</td>\n",
       "      <td>0.069611</td>\n",
       "      <td>-0.006109</td>\n",
       "      <td>0.088775</td>\n",
       "      <td>0.092971</td>\n",
       "      <td>0.100704</td>\n",
       "      <td>-0.011215</td>\n",
       "      <td>...</td>\n",
       "      <td>-0.068176</td>\n",
       "      <td>1.000000</td>\n",
       "      <td>-0.000308</td>\n",
       "      <td>0.012691</td>\n",
       "      <td>-0.019698</td>\n",
       "      <td>0.007789</td>\n",
       "      <td>0.062618</td>\n",
       "      <td>-0.055942</td>\n",
       "      <td>0.071454</td>\n",
       "      <td>-0.005196</td>\n",
       "    </tr>\n",
       "    <tr>\n",
       "      <th>c_slayer</th>\n",
       "      <td>-0.040217</td>\n",
       "      <td>-0.016477</td>\n",
       "      <td>0.036244</td>\n",
       "      <td>0.009343</td>\n",
       "      <td>-0.022445</td>\n",
       "      <td>-0.027426</td>\n",
       "      <td>-0.007120</td>\n",
       "      <td>-0.039683</td>\n",
       "      <td>-0.034670</td>\n",
       "      <td>-0.010739</td>\n",
       "      <td>...</td>\n",
       "      <td>0.032204</td>\n",
       "      <td>-0.000308</td>\n",
       "      <td>1.000000</td>\n",
       "      <td>-0.129372</td>\n",
       "      <td>-0.269781</td>\n",
       "      <td>-0.338828</td>\n",
       "      <td>-0.194073</td>\n",
       "      <td>-0.062136</td>\n",
       "      <td>0.039120</td>\n",
       "      <td>0.020680</td>\n",
       "    </tr>\n",
       "    <tr>\n",
       "      <th>c_tank</th>\n",
       "      <td>0.028312</td>\n",
       "      <td>0.035207</td>\n",
       "      <td>-0.244821</td>\n",
       "      <td>-0.002706</td>\n",
       "      <td>-0.009981</td>\n",
       "      <td>0.039545</td>\n",
       "      <td>-0.004529</td>\n",
       "      <td>-0.002875</td>\n",
       "      <td>-0.020129</td>\n",
       "      <td>-0.119056</td>\n",
       "      <td>...</td>\n",
       "      <td>0.026158</td>\n",
       "      <td>0.012691</td>\n",
       "      <td>-0.129372</td>\n",
       "      <td>1.000000</td>\n",
       "      <td>-0.318977</td>\n",
       "      <td>-0.161498</td>\n",
       "      <td>-0.058094</td>\n",
       "      <td>-0.320226</td>\n",
       "      <td>-0.054796</td>\n",
       "      <td>-0.032744</td>\n",
       "    </tr>\n",
       "    <tr>\n",
       "      <th>c_fighter</th>\n",
       "      <td>0.007361</td>\n",
       "      <td>-0.005801</td>\n",
       "      <td>0.089626</td>\n",
       "      <td>-0.038699</td>\n",
       "      <td>0.002819</td>\n",
       "      <td>-0.000026</td>\n",
       "      <td>-0.010040</td>\n",
       "      <td>0.038941</td>\n",
       "      <td>0.005483</td>\n",
       "      <td>-0.037107</td>\n",
       "      <td>...</td>\n",
       "      <td>0.004281</td>\n",
       "      <td>-0.019698</td>\n",
       "      <td>-0.269781</td>\n",
       "      <td>-0.318977</td>\n",
       "      <td>1.000000</td>\n",
       "      <td>-0.202377</td>\n",
       "      <td>-0.338734</td>\n",
       "      <td>-0.164964</td>\n",
       "      <td>-0.007778</td>\n",
       "      <td>-0.017871</td>\n",
       "    </tr>\n",
       "    <tr>\n",
       "      <th>c_mage</th>\n",
       "      <td>0.037591</td>\n",
       "      <td>0.029360</td>\n",
       "      <td>0.076933</td>\n",
       "      <td>0.056407</td>\n",
       "      <td>0.012357</td>\n",
       "      <td>-0.020383</td>\n",
       "      <td>-0.012464</td>\n",
       "      <td>0.012002</td>\n",
       "      <td>0.005550</td>\n",
       "      <td>0.056038</td>\n",
       "      <td>...</td>\n",
       "      <td>-0.021935</td>\n",
       "      <td>0.007789</td>\n",
       "      <td>-0.338828</td>\n",
       "      <td>-0.161498</td>\n",
       "      <td>-0.202377</td>\n",
       "      <td>1.000000</td>\n",
       "      <td>-0.114296</td>\n",
       "      <td>-0.227904</td>\n",
       "      <td>-0.007249</td>\n",
       "      <td>0.051943</td>\n",
       "    </tr>\n",
       "    <tr>\n",
       "      <th>c_marksman</th>\n",
       "      <td>-0.013598</td>\n",
       "      <td>-0.014568</td>\n",
       "      <td>0.034980</td>\n",
       "      <td>0.016003</td>\n",
       "      <td>0.033100</td>\n",
       "      <td>0.024894</td>\n",
       "      <td>0.008990</td>\n",
       "      <td>0.001992</td>\n",
       "      <td>-0.007383</td>\n",
       "      <td>0.054120</td>\n",
       "      <td>...</td>\n",
       "      <td>-0.029380</td>\n",
       "      <td>0.062618</td>\n",
       "      <td>-0.194073</td>\n",
       "      <td>-0.058094</td>\n",
       "      <td>-0.338734</td>\n",
       "      <td>-0.114296</td>\n",
       "      <td>1.000000</td>\n",
       "      <td>-0.023869</td>\n",
       "      <td>-0.010022</td>\n",
       "      <td>0.015459</td>\n",
       "    </tr>\n",
       "    <tr>\n",
       "      <th>c_controller</th>\n",
       "      <td>-0.029054</td>\n",
       "      <td>-0.035903</td>\n",
       "      <td>-0.009854</td>\n",
       "      <td>-0.037013</td>\n",
       "      <td>-0.011981</td>\n",
       "      <td>-0.012681</td>\n",
       "      <td>0.035300</td>\n",
       "      <td>-0.021572</td>\n",
       "      <td>0.058305</td>\n",
       "      <td>0.087729</td>\n",
       "      <td>...</td>\n",
       "      <td>-0.021167</td>\n",
       "      <td>-0.055942</td>\n",
       "      <td>-0.062136</td>\n",
       "      <td>-0.320226</td>\n",
       "      <td>-0.164964</td>\n",
       "      <td>-0.227904</td>\n",
       "      <td>-0.023869</td>\n",
       "      <td>1.000000</td>\n",
       "      <td>0.047824</td>\n",
       "      <td>-0.039006</td>\n",
       "    </tr>\n",
       "    <tr>\n",
       "      <th>match_cnt</th>\n",
       "      <td>-0.110313</td>\n",
       "      <td>-0.024535</td>\n",
       "      <td>0.070583</td>\n",
       "      <td>0.106546</td>\n",
       "      <td>0.031466</td>\n",
       "      <td>-0.060041</td>\n",
       "      <td>0.023185</td>\n",
       "      <td>0.008202</td>\n",
       "      <td>-0.060757</td>\n",
       "      <td>-0.024205</td>\n",
       "      <td>...</td>\n",
       "      <td>-0.059848</td>\n",
       "      <td>0.071454</td>\n",
       "      <td>0.039120</td>\n",
       "      <td>-0.054796</td>\n",
       "      <td>-0.007778</td>\n",
       "      <td>-0.007249</td>\n",
       "      <td>-0.010022</td>\n",
       "      <td>0.047824</td>\n",
       "      <td>1.000000</td>\n",
       "      <td>0.018179</td>\n",
       "    </tr>\n",
       "    <tr>\n",
       "      <th>win</th>\n",
       "      <td>-0.000361</td>\n",
       "      <td>-0.016757</td>\n",
       "      <td>0.054047</td>\n",
       "      <td>0.439009</td>\n",
       "      <td>-0.010304</td>\n",
       "      <td>-0.010229</td>\n",
       "      <td>-0.010404</td>\n",
       "      <td>-0.060120</td>\n",
       "      <td>-0.013617</td>\n",
       "      <td>0.022961</td>\n",
       "      <td>...</td>\n",
       "      <td>-0.026427</td>\n",
       "      <td>-0.005196</td>\n",
       "      <td>0.020680</td>\n",
       "      <td>-0.032744</td>\n",
       "      <td>-0.017871</td>\n",
       "      <td>0.051943</td>\n",
       "      <td>0.015459</td>\n",
       "      <td>-0.039006</td>\n",
       "      <td>0.018179</td>\n",
       "      <td>1.000000</td>\n",
       "    </tr>\n",
       "  </tbody>\n",
       "</table>\n",
       "<p>28 rows × 28 columns</p>\n",
       "</div>"
      ],
      "text/plain": [
       "                  gameId    teamId  champ_WR_dif  user_champ_WR  top_tier  \\\n",
       "gameId          1.000000  0.043550     -0.066775       0.008772 -0.029896   \n",
       "teamId          0.043550  1.000000     -0.137012       0.010114  0.024701   \n",
       "champ_WR_dif   -0.066775 -0.137012      1.000000       0.058302  0.000087   \n",
       "user_champ_WR   0.008772  0.010114      0.058302       1.000000  0.020281   \n",
       "top_tier       -0.029896  0.024701      0.000087       0.020281  1.000000   \n",
       "jug_tier        0.001377  0.022401     -0.060093      -0.021419 -0.035172   \n",
       "mid_tier       -0.019604  0.004474     -0.008711      -0.018010 -0.011685   \n",
       "carry_tier     -0.004242  0.044557     -0.168896      -0.070491 -0.003128   \n",
       "support_tier   -0.031767  0.006939     -0.114253       0.004413  0.002182   \n",
       "c_top_tier     -0.037417 -0.012979      0.126065      -0.000604  0.003451   \n",
       "c_jug_tier     -0.025205 -0.015018      0.062827      -0.053999  0.012324   \n",
       "c_mid_tier      0.004112  0.018431      0.046637       0.014687 -0.014143   \n",
       "c_carry_tier   -0.097382  0.015381      0.186706       0.014047  0.038062   \n",
       "c_support_tier -0.027519  0.016767      0.053491      -0.038952 -0.016109   \n",
       "slayer         -0.050576 -0.006897     -0.034608      -0.001403  0.001215   \n",
       "tank            0.018238 -0.004563      0.203475      -0.032052 -0.116496   \n",
       "fighter        -0.029166  0.001633     -0.095986      -0.018972 -0.059515   \n",
       "mage            0.102951 -0.000754     -0.026461       0.053733  0.086798   \n",
       "marksman        0.017579 -0.013610     -0.049037      -0.035101  0.050209   \n",
       "controller     -0.070844  0.026239      0.011872       0.034870  0.069611   \n",
       "c_slayer       -0.040217 -0.016477      0.036244       0.009343 -0.022445   \n",
       "c_tank          0.028312  0.035207     -0.244821      -0.002706 -0.009981   \n",
       "c_fighter       0.007361 -0.005801      0.089626      -0.038699  0.002819   \n",
       "c_mage          0.037591  0.029360      0.076933       0.056407  0.012357   \n",
       "c_marksman     -0.013598 -0.014568      0.034980       0.016003  0.033100   \n",
       "c_controller   -0.029054 -0.035903     -0.009854      -0.037013 -0.011981   \n",
       "match_cnt      -0.110313 -0.024535      0.070583       0.106546  0.031466   \n",
       "win            -0.000361 -0.016757      0.054047       0.439009 -0.010304   \n",
       "\n",
       "                jug_tier  mid_tier  carry_tier  support_tier  c_top_tier  ...  \\\n",
       "gameId          0.001377 -0.019604   -0.004242     -0.031767   -0.037417  ...   \n",
       "teamId          0.022401  0.004474    0.044557      0.006939   -0.012979  ...   \n",
       "champ_WR_dif   -0.060093 -0.008711   -0.168896     -0.114253    0.126065  ...   \n",
       "user_champ_WR  -0.021419 -0.018010   -0.070491      0.004413   -0.000604  ...   \n",
       "top_tier       -0.035172 -0.011685   -0.003128      0.002182    0.003451  ...   \n",
       "jug_tier        1.000000  0.049447    0.000691     -0.004356    0.019598  ...   \n",
       "mid_tier        0.049447  1.000000   -0.004152      0.026894    0.003773  ...   \n",
       "carry_tier      0.000691 -0.004152    1.000000      0.081664    0.007446  ...   \n",
       "support_tier   -0.004356  0.026894    0.081664      1.000000    0.010220  ...   \n",
       "c_top_tier      0.019598  0.003773    0.007446      0.010220    1.000000  ...   \n",
       "c_jug_tier     -0.040587  0.022413    0.041360      0.026976    0.019400  ...   \n",
       "c_mid_tier      0.053728  0.041965    0.005038      0.000918    0.009817  ...   \n",
       "c_carry_tier    0.047606 -0.008765   -0.130267     -0.003976    0.001810  ...   \n",
       "c_support_tier -0.005290 -0.028099   -0.012975     -0.010547    0.041306  ...   \n",
       "slayer          0.054160 -0.202775    0.046696      0.014358   -0.016428  ...   \n",
       "tank           -0.064420  0.047548    0.002656     -0.252059    0.015041  ...   \n",
       "fighter         0.067290  0.036978    0.050398      0.039540    0.033546  ...   \n",
       "mage            0.158839  0.043939   -0.009601      0.089900    0.000676  ...   \n",
       "marksman       -0.286550 -0.015725   -0.215299      0.022724   -0.038544  ...   \n",
       "controller     -0.006109  0.088775    0.092971      0.100704   -0.011215  ...   \n",
       "c_slayer       -0.027426 -0.007120   -0.039683     -0.034670   -0.010739  ...   \n",
       "c_tank          0.039545 -0.004529   -0.002875     -0.020129   -0.119056  ...   \n",
       "c_fighter      -0.000026 -0.010040    0.038941      0.005483   -0.037107  ...   \n",
       "c_mage         -0.020383 -0.012464    0.012002      0.005550    0.056038  ...   \n",
       "c_marksman      0.024894  0.008990    0.001992     -0.007383    0.054120  ...   \n",
       "c_controller   -0.012681  0.035300   -0.021572      0.058305    0.087729  ...   \n",
       "match_cnt      -0.060041  0.023185    0.008202     -0.060757   -0.024205  ...   \n",
       "win            -0.010229 -0.010404   -0.060120     -0.013617    0.022961  ...   \n",
       "\n",
       "                marksman  controller  c_slayer    c_tank  c_fighter    c_mage  \\\n",
       "gameId          0.017579   -0.070844 -0.040217  0.028312   0.007361  0.037591   \n",
       "teamId         -0.013610    0.026239 -0.016477  0.035207  -0.005801  0.029360   \n",
       "champ_WR_dif   -0.049037    0.011872  0.036244 -0.244821   0.089626  0.076933   \n",
       "user_champ_WR  -0.035101    0.034870  0.009343 -0.002706  -0.038699  0.056407   \n",
       "top_tier        0.050209    0.069611 -0.022445 -0.009981   0.002819  0.012357   \n",
       "jug_tier       -0.286550   -0.006109 -0.027426  0.039545  -0.000026 -0.020383   \n",
       "mid_tier       -0.015725    0.088775 -0.007120 -0.004529  -0.010040 -0.012464   \n",
       "carry_tier     -0.215299    0.092971 -0.039683 -0.002875   0.038941  0.012002   \n",
       "support_tier    0.022724    0.100704 -0.034670 -0.020129   0.005483  0.005550   \n",
       "c_top_tier     -0.038544   -0.011215 -0.010739 -0.119056  -0.037107  0.056038   \n",
       "c_jug_tier      0.014719    0.022129  0.060107 -0.103827   0.081460  0.149133   \n",
       "c_mid_tier     -0.051185   -0.004488 -0.167658 -0.009238   0.064523  0.036282   \n",
       "c_carry_tier    0.023465    0.011494 -0.022087 -0.022831   0.072866  0.035726   \n",
       "c_support_tier  0.015443    0.011351  0.024335 -0.242807   0.002772  0.100290   \n",
       "slayer         -0.199628   -0.070738 -0.039059  0.019478   0.069171 -0.021502   \n",
       "tank           -0.025459   -0.292025  0.042906 -0.054049   0.040807 -0.022089   \n",
       "fighter        -0.378305   -0.134812 -0.009248 -0.002629  -0.047469  0.022458   \n",
       "mage           -0.073078   -0.213063 -0.018991  0.007279  -0.037553  0.026426   \n",
       "marksman        1.000000   -0.068176  0.032204  0.026158   0.004281 -0.021935   \n",
       "controller     -0.068176    1.000000 -0.000308  0.012691  -0.019698  0.007789   \n",
       "c_slayer        0.032204   -0.000308  1.000000 -0.129372  -0.269781 -0.338828   \n",
       "c_tank          0.026158    0.012691 -0.129372  1.000000  -0.318977 -0.161498   \n",
       "c_fighter       0.004281   -0.019698 -0.269781 -0.318977   1.000000 -0.202377   \n",
       "c_mage         -0.021935    0.007789 -0.338828 -0.161498  -0.202377  1.000000   \n",
       "c_marksman     -0.029380    0.062618 -0.194073 -0.058094  -0.338734 -0.114296   \n",
       "c_controller   -0.021167   -0.055942 -0.062136 -0.320226  -0.164964 -0.227904   \n",
       "match_cnt      -0.059848    0.071454  0.039120 -0.054796  -0.007778 -0.007249   \n",
       "win            -0.026427   -0.005196  0.020680 -0.032744  -0.017871  0.051943   \n",
       "\n",
       "                c_marksman  c_controller  match_cnt       win  \n",
       "gameId           -0.013598     -0.029054  -0.110313 -0.000361  \n",
       "teamId           -0.014568     -0.035903  -0.024535 -0.016757  \n",
       "champ_WR_dif      0.034980     -0.009854   0.070583  0.054047  \n",
       "user_champ_WR     0.016003     -0.037013   0.106546  0.439009  \n",
       "top_tier          0.033100     -0.011981   0.031466 -0.010304  \n",
       "jug_tier          0.024894     -0.012681  -0.060041 -0.010229  \n",
       "mid_tier          0.008990      0.035300   0.023185 -0.010404  \n",
       "carry_tier        0.001992     -0.021572   0.008202 -0.060120  \n",
       "support_tier     -0.007383      0.058305  -0.060757 -0.013617  \n",
       "c_top_tier        0.054120      0.087729  -0.024205  0.022961  \n",
       "c_jug_tier       -0.275812      0.013895  -0.029658  0.008437  \n",
       "c_mid_tier       -0.025308      0.100214  -0.005930  0.030374  \n",
       "c_carry_tier     -0.178895      0.076107  -0.032855  0.005324  \n",
       "c_support_tier   -0.005555      0.137898   0.026637  0.038472  \n",
       "slayer           -0.059755      0.007816   0.047169 -0.002845  \n",
       "tank             -0.020400      0.000314   0.045360 -0.006101  \n",
       "fighter           0.023969      0.032324  -0.040979 -0.001966  \n",
       "mage              0.022234      0.014723  -0.049664  0.034844  \n",
       "marksman         -0.029380     -0.021167  -0.059848 -0.026427  \n",
       "controller        0.062618     -0.055942   0.071454 -0.005196  \n",
       "c_slayer         -0.194073     -0.062136   0.039120  0.020680  \n",
       "c_tank           -0.058094     -0.320226  -0.054796 -0.032744  \n",
       "c_fighter        -0.338734     -0.164964  -0.007778 -0.017871  \n",
       "c_mage           -0.114296     -0.227904  -0.007249  0.051943  \n",
       "c_marksman        1.000000     -0.023869  -0.010022  0.015459  \n",
       "c_controller     -0.023869      1.000000   0.047824 -0.039006  \n",
       "match_cnt        -0.010022      0.047824   1.000000  0.018179  \n",
       "win               0.015459     -0.039006   0.018179  1.000000  \n",
       "\n",
       "[28 rows x 28 columns]"
      ]
     },
     "execution_count": 24,
     "metadata": {},
     "output_type": "execute_result"
    }
   ],
   "source": [
    "df.corr(method='pearson')"
   ]
  },
  {
   "cell_type": "code",
   "execution_count": 25,
   "metadata": {},
   "outputs": [],
   "source": [
    "knn = KNeighborsClassifier()"
   ]
  },
  {
   "cell_type": "code",
   "execution_count": 26,
   "metadata": {},
   "outputs": [],
   "source": [
    "X=df.iloc[:,1:-1]\n",
    "y=df.iloc[:,-1]"
   ]
  },
  {
   "cell_type": "code",
   "execution_count": 27,
   "metadata": {},
   "outputs": [
    {
     "data": {
      "image/png": "[encoded data removed]",
      "text/plain": [
       "<Figure size 432x288 with 1 Axes>"
      ]
     },
     "metadata": {
      "needs_background": "light"
     },
     "output_type": "display_data"
    }
   ],
   "source": [
    "tsne = TSNE(n_components=3, perplexity=100, learning_rate=300)\n",
    "X_tsne = tsne.fit_transform(X)\n",
    "X_data=pd.DataFrame(X_tsne,columns=('1','2','3'))\n",
    "data = pd.concat((X_data,y),axis=1)\n",
    "\n",
    "fig = plt.figure()\n",
    "ax = fig.gca(projection='3d')\n",
    "for i in range(len(data)):\n",
    "    if data.loc[:,'win'][i]==True:\n",
    "        x_=data['1'][i]\n",
    "        y_=data['2'][i]\n",
    "        z_=data['3'][i]\n",
    "\n",
    "\n",
    "        ax.scatter(x_,y_,z_,c='r',label='win')\n",
    "        \n",
    "    else:\n",
    "        x_=data['1'][i]\n",
    "        y_=data['2'][i]\n",
    "        z_=data['3'][i]\n",
    "        ax.scatter(x_,y_,z_,c='b',label='lose')\n",
    "\n",
    "plt.show()"
   ]
  },
  {
   "cell_type": "code",
   "execution_count": 9,
   "metadata": {},
   "outputs": [
    {
     "data": {
      "image/png": "[encoded data removed]",
      "text/plain": [
       "<Figure size 432x288 with 1 Axes>"
      ]
     },
     "metadata": {
      "needs_background": "light"
     },
     "output_type": "display_data"
    }
   ],
   "source": [
    "pca = PCA(n_components=3)\n",
    "X_pca = pca.fit_transform(X)\n",
    "X_data=pd.DataFrame(X_pca,columns=('1','2','3'))\n",
    "data = pd.concat((X_data,y),axis=1)\n",
    "fig = plt.figure()\n",
    "ax = fig.gca(projection='3d')\n",
    "for i in range(len(data)):\n",
    "    if data.loc[:,'win'][i]==True:\n",
    "        x_=data['1'][i]\n",
    "        y_=data['2'][i]\n",
    "        z_=data['3'][i]\n",
    "\n",
    "\n",
    "        ax.scatter(x_,y_,z_,c='r',label='win')\n",
    "        \n",
    "    else:\n",
    "        x_=data['1'][i]\n",
    "        y_=data['2'][i]\n",
    "        z_=data['3'][i]\n",
    "        ax.scatter(x_,y_,z_,c='b',label='lose')\n",
    "plt.show()"
   ]
  },
  {
   "cell_type": "code",
   "execution_count": null,
   "metadata": {},
   "outputs": [],
   "source": [
    "pca.explained_variance_ratio_()"
   ]
  },
  {
   "cell_type": "code",
   "execution_count": 121,
   "metadata": {},
   "outputs": [],
   "source": [
    "X_cen= X-X.mean(axis=0)\n",
    "X_cov= np.dot(X_cen.T, X_cen)/59"
   ]
  },
  {
   "cell_type": "code",
   "execution_count": 122,
   "metadata": {},
   "outputs": [],
   "source": [
    "w,v=np.linalg.eig(X_cov)"
   ]
  },
  {
   "cell_type": "code",
   "execution_count": 123,
   "metadata": {},
   "outputs": [
    {
     "data": {
      "text/plain": [
       "array([ 7.97954966e-01,  1.95279887e-01,  4.85270936e-03,  1.92550227e-04,\n",
       "        1.91270160e-04,  1.78057642e-04,  1.71163180e-04,  1.58766955e-04,\n",
       "        1.56969293e-04,  1.40647263e-04,  1.19519049e-04,  1.15768854e-04,\n",
       "        1.03231593e-04,  6.48333744e-05,  5.88651076e-05,  4.78701981e-05,\n",
       "        4.98546110e-05,  3.65636727e-05,  3.20181647e-05,  2.91133615e-05,\n",
       "        2.73323030e-05,  1.80688581e-05,  1.99566146e-05,  1.64347386e-08,\n",
       "       -1.31317613e-20,  4.58298409e-20])"
      ]
     },
     "execution_count": 123,
     "metadata": {},
     "output_type": "execute_result"
    }
   ],
   "source": [
    "w/w.sum()"
   ]
  },
  {
   "cell_type": "code",
   "execution_count": 126,
   "metadata": {},
   "outputs": [
    {
     "name": "stderr",
     "output_type": "stream",
     "text": [
      "C:\\Users\\DongwonLee\\anaconda3\\lib\\site-packages\\sklearn\\manifold\\_spectral_embedding.py:236: UserWarning: Graph is not fully connected, spectral embedding may not work as expected.\n",
      "  warnings.warn(\"Graph is not fully connected, spectral embedding\"\n"
     ]
    },
    {
     "data": {
      "text/plain": [
       "<matplotlib.axes._subplots.AxesSubplot at 0x20a8a8a92e0>"
      ]
     },
     "execution_count": 126,
     "metadata": {},
     "output_type": "execute_result"
    },
    {
     "data": {
      "image/png": "[encoded data removed]",
      "text/plain": [
       "<Figure size 432x288 with 1 Axes>"
      ]
     },
     "metadata": {
      "needs_background": "light"
     },
     "output_type": "display_data"
    }
   ],
   "source": [
    "um = umap.UMAP(n_neighbors=2,min_dist=0.1).fit_transform(X)\n",
    "um=pd.DataFrame(um,columns=('1','2'))\n",
    "sns.scatterplot(x=um['1'],y=um['2'],hue=data['win'])"
   ]
  },
  {
   "cell_type": "code",
   "execution_count": 102,
   "metadata": {},
   "outputs": [],
   "source": []
  },
  {
   "cell_type": "code",
   "execution_count": 45,
   "metadata": {},
   "outputs": [],
   "source": [
    "svm=svm.SVC(probability=True)"
   ]
  },
  {
   "cell_type": "code",
   "execution_count": 46,
   "metadata": {
    "scrolled": true
   },
   "outputs": [
    {
     "data": {
      "text/plain": [
       "SVC(probability=True)"
      ]
     },
     "execution_count": 46,
     "metadata": {},
     "output_type": "execute_result"
    }
   ],
   "source": [
    "svm.fit(X,y)"
   ]
  },
  {
   "cell_type": "code",
   "execution_count": 47,
   "metadata": {},
   "outputs": [
    {
     "data": {
      "text/plain": [
       "0.6806318681318682"
      ]
     },
     "execution_count": 47,
     "metadata": {},
     "output_type": "execute_result"
    }
   ],
   "source": [
    "svm.score(X,y)"
   ]
  },
  {
   "cell_type": "code",
   "execution_count": 48,
   "metadata": {},
   "outputs": [
    {
     "data": {
      "text/plain": [
       "[200.0,\n",
       " -0.009500000000000008,\n",
       " 54.8,\n",
       " 5.0,\n",
       " 2.0,\n",
       " 3.0,\n",
       " 2.0,\n",
       " 2.0,\n",
       " 2.0,\n",
       " 3.0,\n",
       " 2.0,\n",
       " 5.0,\n",
       " 1.0,\n",
       " 2.0,\n",
       " 0.0,\n",
       " 1.0,\n",
       " 0.0,\n",
       " 1.0,\n",
       " 1.0,\n",
       " 0.0,\n",
       " 0.0,\n",
       " 2.0,\n",
       " 1.0,\n",
       " 1.0,\n",
       " 1.0,\n",
       " 229.2]"
      ]
     },
     "execution_count": 48,
     "metadata": {},
     "output_type": "execute_result"
    }
   ],
   "source": [
    "list(X.iloc[1,:])"
   ]
  },
  {
   "cell_type": "code",
   "execution_count": 50,
   "metadata": {},
   "outputs": [
    {
     "data": {
      "text/plain": [
       "array([[0.46730535, 0.53269465]])"
      ]
     },
     "execution_count": 50,
     "metadata": {},
     "output_type": "execute_result"
    }
   ],
   "source": [
    "svm.predict_proba([[100,0.1,52.0,2.0,1.0,2.0,2.0,1.0,3.0,3.0,3.0,3.0,3.0,1.0,1.0,0.0,1.0,1.0,1.0,1.0,0.0,0.0,2.0,1.0,1.0,200]])"
   ]
  },
  {
   "cell_type": "code",
   "execution_count": 13,
   "metadata": {},
   "outputs": [],
   "source": [
    "result = cross_val_score(svm,X,y)"
   ]
  },
  {
   "cell_type": "code",
   "execution_count": 14,
   "metadata": {},
   "outputs": [
    {
     "data": {
      "text/plain": [
       "0.6346467071505908"
      ]
     },
     "execution_count": 14,
     "metadata": {},
     "output_type": "execute_result"
    }
   ],
   "source": [
    "result.mean()"
   ]
  },
  {
   "cell_type": "code",
   "execution_count": 15,
   "metadata": {},
   "outputs": [],
   "source": [
    "k_range = list(range(1,31))"
   ]
  },
  {
   "cell_type": "code",
   "execution_count": 16,
   "metadata": {},
   "outputs": [],
   "source": [
    "param_grid = dict(n_neighbors = k_range) "
   ]
  },
  {
   "cell_type": "code",
   "execution_count": 17,
   "metadata": {},
   "outputs": [],
   "source": [
    "grid = GridSearchCV(knn, param_grid, cv=10, scoring='accuracy', return_train_score=False)"
   ]
  },
  {
   "cell_type": "code",
   "execution_count": 18,
   "metadata": {},
   "outputs": [
    {
     "data": {
      "text/plain": [
       "GridSearchCV(cv=10, estimator=KNeighborsClassifier(),\n",
       "             param_grid={'n_neighbors': [1, 2, 3, 4, 5, 6, 7, 8, 9, 10, 11, 12,\n",
       "                                         13, 14, 15, 16, 17, 18, 19, 20, 21, 22,\n",
       "                                         23, 24, 25, 26, 27, 28, 29, 30]},\n",
       "             scoring='accuracy')"
      ]
     },
     "execution_count": 18,
     "metadata": {},
     "output_type": "execute_result"
    }
   ],
   "source": [
    "grid.fit(X,y)"
   ]
  },
  {
   "cell_type": "code",
   "execution_count": 19,
   "metadata": {},
   "outputs": [],
   "source": [
    "grid_mean_scores = grid.cv_results_['mean_test_score']"
   ]
  },
  {
   "cell_type": "code",
   "execution_count": 20,
   "metadata": {},
   "outputs": [
    {
     "data": {
      "text/plain": [
       "Text(0, 0.5, 'Cross-Validated Accuracy')"
      ]
     },
     "execution_count": 20,
     "metadata": {},
     "output_type": "execute_result"
    },
    {
     "data": {
      "image/png": "[encoded data removed]",
      "text/plain": [
       "<Figure size 432x288 with 1 Axes>"
      ]
     },
     "metadata": {
      "needs_background": "light"
     },
     "output_type": "display_data"
    }
   ],
   "source": [
    "plt.plot(k_range,grid_mean_scores)\n",
    "plt.xlabel('Value of K for KNN')\n",
    "plt.ylabel('Cross-Validated Accuracy')"
   ]
  },
  {
   "cell_type": "code",
   "execution_count": 21,
   "metadata": {
    "scrolled": true
   },
   "outputs": [
    {
     "name": "stdout",
     "output_type": "stream",
     "text": [
      "0.6257345299952763\n",
      "{'n_neighbors': 8}\n",
      "KNeighborsClassifier(n_neighbors=8)\n"
     ]
    }
   ],
   "source": [
    "print(grid.best_score_)\n",
    "print(grid.best_params_)\n",
    "print(grid.best_estimator_)"
   ]
  },
  {
   "cell_type": "code",
   "execution_count": 139,
   "metadata": {},
   "outputs": [],
   "source": [
    "df_copy= df.copy()"
   ]
  },
  {
   "cell_type": "code",
   "execution_count": 140,
   "metadata": {},
   "outputs": [],
   "source": [
    "def remove_outlier_test(df_c,column):\n",
    "    fraud_column_data = df_c[column]\n",
    "    quan_25 = np.percentile(fraud_column_data.values, 25)\n",
    "    quan_75 = np.percentile(fraud_column_data.values, 75)\n",
    "    \n",
    "    IQR = quan_75 - quan_25\n",
    "    IQR += 1.5\n",
    "    lowest = quan_25 - IQR\n",
    "    higest = quan_75 + IQR\n",
    "    outlier_index = fraud_column_data[(fraud_column_data < lowest ) | (fraud_column_data > higest)].index\n",
    "    print(len(outlier_index))\n",
    "    df_c.drop(outlier_index, axis=0, inplace=True)\n",
    "    return df_c"
   ]
  },
  {
   "cell_type": "code",
   "execution_count": 146,
   "metadata": {},
   "outputs": [
    {
     "name": "stdout",
     "output_type": "stream",
     "text": [
      "32\n"
     ]
    }
   ],
   "source": [
    "df_copy = remove_outlier_test(df_copy,'carry_tier')"
   ]
  },
  {
   "cell_type": "code",
   "execution_count": 147,
   "metadata": {},
   "outputs": [],
   "source": [
    "X_cp=df_copy.iloc[:,1:-1]\n",
    "y_cp=df_copy.iloc[:,-1]"
   ]
  },
  {
   "cell_type": "code",
   "execution_count": 150,
   "metadata": {},
   "outputs": [
    {
     "data": {
      "text/plain": [
       "SVC()"
      ]
     },
     "execution_count": 150,
     "metadata": {},
     "output_type": "execute_result"
    }
   ],
   "source": [
    "svm.fit(X_cp,y_cp)"
   ]
  },
  {
   "cell_type": "code",
   "execution_count": 151,
   "metadata": {},
   "outputs": [
    {
     "data": {
      "text/plain": [
       "0.6445461479786423"
      ]
     },
     "execution_count": 151,
     "metadata": {},
     "output_type": "execute_result"
    }
   ],
   "source": [
    "svm.score(X_cp,y_cp)"
   ]
  },
  {
   "cell_type": "code",
   "execution_count": null,
   "metadata": {},
   "outputs": [],
   "source": []
  }
 ],
 "metadata": {
  "kernelspec": {
   "display_name": "Python 3",
   "language": "python",
   "name": "python3"
  },
  "language_info": {
   "codemirror_mode": {
    "name": "ipython",
    "version": 3
   },
   "file_extension": ".py",
   "mimetype": "text/x-python",
   "name": "python",
   "nbconvert_exporter": "python",
   "pygments_lexer": "ipython3",
   "version": "3.8.3"
  }
 },
 "nbformat": 4,
 "nbformat_minor": 4
}
